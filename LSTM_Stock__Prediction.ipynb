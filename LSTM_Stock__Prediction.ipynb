{
  "cells": [
    {
      "cell_type": "code",
      "execution_count": 2,
      "metadata": {
        "id": "eNOoMMwVREDQ"
      },
      "outputs": [],
      "source": [
        "import pandas as pd\n",
        "import numpy as np\n",
        "import matplotlib.pyplot as plt\n",
        "import seaborn as sns\n",
        "import warnings\n",
        "warnings.filterwarnings('ignore')\n",
        "import pandas_datareader as data\n",
        "import datetime\n"
      ]
    },
    {
      "cell_type": "code",
      "execution_count": 4,
      "metadata": {
        "colab": {
          "base_uri": "https://localhost:8080/"
        },
        "id": "l1yIzVoESlg1",
        "outputId": "ba29936b-951b-4757-ce76-7c80634d88bb"
      },
      "outputs": [
        {
          "name": "stderr",
          "output_type": "stream",
          "text": [
            "[*********************100%%**********************]  1 of 1 completed"
          ]
        },
        {
          "name": "stdout",
          "output_type": "stream",
          "text": [
            "                 Open       High        Low      Close  Adj Close     Volume\n",
            "Date                                                                        \n",
            "2015-01-02  27.847500  27.860001  26.837500  27.332500  24.402168  212818400\n",
            "2015-01-05  27.072500  27.162500  26.352501  26.562500  23.714725  257142000\n",
            "2015-01-06  26.635000  26.857500  26.157499  26.565001  23.716961  263188400\n",
            "2015-01-07  26.799999  27.049999  26.674999  26.937500  24.049515  160423600\n",
            "2015-01-08  27.307501  28.037500  27.174999  27.972500  24.973558  237458000\n"
          ]
        },
        {
          "name": "stderr",
          "output_type": "stream",
          "text": [
            "\n"
          ]
        }
      ],
      "source": [
        "\n",
        "import yfinance as yf\n",
        "\n",
        "\n",
        "# Define start and end dates\n",
        "start = '2015-01-01'\n",
        "end = '2023-12-31'\n",
        "\n",
        "try:\n",
        "    # Fetch data using yfinance\n",
        "    df = yf.download('AAPL', start=start, end=end)\n",
        "    print(df.head())\n",
        "except Exception as e:\n",
        "    print(f\"Error fetching data: {e}\")\n",
        "\n"
      ]
    },
    {
      "cell_type": "code",
      "execution_count": 5,
      "metadata": {
        "colab": {
          "base_uri": "https://localhost:8080/",
          "height": 237
        },
        "id": "2rjZR7P8VzNZ",
        "outputId": "cfe2d70b-ca8c-455e-8d9b-cd430f0a7f98"
      },
      "outputs": [
        {
          "data": {
            "text/html": [
              "<div>\n",
              "<style scoped>\n",
              "    .dataframe tbody tr th:only-of-type {\n",
              "        vertical-align: middle;\n",
              "    }\n",
              "\n",
              "    .dataframe tbody tr th {\n",
              "        vertical-align: top;\n",
              "    }\n",
              "\n",
              "    .dataframe thead th {\n",
              "        text-align: right;\n",
              "    }\n",
              "</style>\n",
              "<table border=\"1\" class=\"dataframe\">\n",
              "  <thead>\n",
              "    <tr style=\"text-align: right;\">\n",
              "      <th></th>\n",
              "      <th>Open</th>\n",
              "      <th>High</th>\n",
              "      <th>Low</th>\n",
              "      <th>Close</th>\n",
              "      <th>Adj Close</th>\n",
              "      <th>Volume</th>\n",
              "    </tr>\n",
              "    <tr>\n",
              "      <th>Date</th>\n",
              "      <th></th>\n",
              "      <th></th>\n",
              "      <th></th>\n",
              "      <th></th>\n",
              "      <th></th>\n",
              "      <th></th>\n",
              "    </tr>\n",
              "  </thead>\n",
              "  <tbody>\n",
              "    <tr>\n",
              "      <th>2015-01-02</th>\n",
              "      <td>27.847500</td>\n",
              "      <td>27.860001</td>\n",
              "      <td>26.837500</td>\n",
              "      <td>27.332500</td>\n",
              "      <td>24.402168</td>\n",
              "      <td>212818400</td>\n",
              "    </tr>\n",
              "    <tr>\n",
              "      <th>2015-01-05</th>\n",
              "      <td>27.072500</td>\n",
              "      <td>27.162500</td>\n",
              "      <td>26.352501</td>\n",
              "      <td>26.562500</td>\n",
              "      <td>23.714725</td>\n",
              "      <td>257142000</td>\n",
              "    </tr>\n",
              "    <tr>\n",
              "      <th>2015-01-06</th>\n",
              "      <td>26.635000</td>\n",
              "      <td>26.857500</td>\n",
              "      <td>26.157499</td>\n",
              "      <td>26.565001</td>\n",
              "      <td>23.716961</td>\n",
              "      <td>263188400</td>\n",
              "    </tr>\n",
              "    <tr>\n",
              "      <th>2015-01-07</th>\n",
              "      <td>26.799999</td>\n",
              "      <td>27.049999</td>\n",
              "      <td>26.674999</td>\n",
              "      <td>26.937500</td>\n",
              "      <td>24.049515</td>\n",
              "      <td>160423600</td>\n",
              "    </tr>\n",
              "    <tr>\n",
              "      <th>2015-01-08</th>\n",
              "      <td>27.307501</td>\n",
              "      <td>28.037500</td>\n",
              "      <td>27.174999</td>\n",
              "      <td>27.972500</td>\n",
              "      <td>24.973558</td>\n",
              "      <td>237458000</td>\n",
              "    </tr>\n",
              "  </tbody>\n",
              "</table>\n",
              "</div>"
            ],
            "text/plain": [
              "                 Open       High        Low      Close  Adj Close     Volume\n",
              "Date                                                                        \n",
              "2015-01-02  27.847500  27.860001  26.837500  27.332500  24.402168  212818400\n",
              "2015-01-05  27.072500  27.162500  26.352501  26.562500  23.714725  257142000\n",
              "2015-01-06  26.635000  26.857500  26.157499  26.565001  23.716961  263188400\n",
              "2015-01-07  26.799999  27.049999  26.674999  26.937500  24.049515  160423600\n",
              "2015-01-08  27.307501  28.037500  27.174999  27.972500  24.973558  237458000"
            ]
          },
          "execution_count": 5,
          "metadata": {},
          "output_type": "execute_result"
        }
      ],
      "source": [
        "df.head()"
      ]
    },
    {
      "cell_type": "code",
      "execution_count": 6,
      "metadata": {
        "colab": {
          "base_uri": "https://localhost:8080/",
          "height": 237
        },
        "id": "oTgnT7zytktz",
        "outputId": "e9eb0fa0-6a41-457e-cb3d-7ffb2f6d5abd"
      },
      "outputs": [
        {
          "data": {
            "text/html": [
              "<div>\n",
              "<style scoped>\n",
              "    .dataframe tbody tr th:only-of-type {\n",
              "        vertical-align: middle;\n",
              "    }\n",
              "\n",
              "    .dataframe tbody tr th {\n",
              "        vertical-align: top;\n",
              "    }\n",
              "\n",
              "    .dataframe thead th {\n",
              "        text-align: right;\n",
              "    }\n",
              "</style>\n",
              "<table border=\"1\" class=\"dataframe\">\n",
              "  <thead>\n",
              "    <tr style=\"text-align: right;\">\n",
              "      <th></th>\n",
              "      <th>Open</th>\n",
              "      <th>High</th>\n",
              "      <th>Low</th>\n",
              "      <th>Close</th>\n",
              "      <th>Adj Close</th>\n",
              "      <th>Volume</th>\n",
              "    </tr>\n",
              "    <tr>\n",
              "      <th>Date</th>\n",
              "      <th></th>\n",
              "      <th></th>\n",
              "      <th></th>\n",
              "      <th></th>\n",
              "      <th></th>\n",
              "      <th></th>\n",
              "    </tr>\n",
              "  </thead>\n",
              "  <tbody>\n",
              "    <tr>\n",
              "      <th>2023-12-22</th>\n",
              "      <td>195.179993</td>\n",
              "      <td>195.410004</td>\n",
              "      <td>192.970001</td>\n",
              "      <td>193.600006</td>\n",
              "      <td>193.091385</td>\n",
              "      <td>37122800</td>\n",
              "    </tr>\n",
              "    <tr>\n",
              "      <th>2023-12-26</th>\n",
              "      <td>193.610001</td>\n",
              "      <td>193.889999</td>\n",
              "      <td>192.830002</td>\n",
              "      <td>193.050003</td>\n",
              "      <td>192.542831</td>\n",
              "      <td>28919300</td>\n",
              "    </tr>\n",
              "    <tr>\n",
              "      <th>2023-12-27</th>\n",
              "      <td>192.490005</td>\n",
              "      <td>193.500000</td>\n",
              "      <td>191.089996</td>\n",
              "      <td>193.149994</td>\n",
              "      <td>192.642548</td>\n",
              "      <td>48087700</td>\n",
              "    </tr>\n",
              "    <tr>\n",
              "      <th>2023-12-28</th>\n",
              "      <td>194.139999</td>\n",
              "      <td>194.660004</td>\n",
              "      <td>193.169998</td>\n",
              "      <td>193.580002</td>\n",
              "      <td>193.071426</td>\n",
              "      <td>34049900</td>\n",
              "    </tr>\n",
              "    <tr>\n",
              "      <th>2023-12-29</th>\n",
              "      <td>193.899994</td>\n",
              "      <td>194.399994</td>\n",
              "      <td>191.729996</td>\n",
              "      <td>192.529999</td>\n",
              "      <td>192.024185</td>\n",
              "      <td>42628800</td>\n",
              "    </tr>\n",
              "  </tbody>\n",
              "</table>\n",
              "</div>"
            ],
            "text/plain": [
              "                  Open        High         Low       Close   Adj Close  \\\n",
              "Date                                                                     \n",
              "2023-12-22  195.179993  195.410004  192.970001  193.600006  193.091385   \n",
              "2023-12-26  193.610001  193.889999  192.830002  193.050003  192.542831   \n",
              "2023-12-27  192.490005  193.500000  191.089996  193.149994  192.642548   \n",
              "2023-12-28  194.139999  194.660004  193.169998  193.580002  193.071426   \n",
              "2023-12-29  193.899994  194.399994  191.729996  192.529999  192.024185   \n",
              "\n",
              "              Volume  \n",
              "Date                  \n",
              "2023-12-22  37122800  \n",
              "2023-12-26  28919300  \n",
              "2023-12-27  48087700  \n",
              "2023-12-28  34049900  \n",
              "2023-12-29  42628800  "
            ]
          },
          "execution_count": 6,
          "metadata": {},
          "output_type": "execute_result"
        }
      ],
      "source": [
        "df.tail()"
      ]
    },
    {
      "cell_type": "code",
      "execution_count": 7,
      "metadata": {
        "colab": {
          "base_uri": "https://localhost:8080/",
          "height": 206
        },
        "id": "ssv6IzT5t-VR",
        "outputId": "5dfd04b8-fbfd-45a0-b8c8-0bf9c69d6d9e"
      },
      "outputs": [
        {
          "data": {
            "text/html": [
              "<div>\n",
              "<style scoped>\n",
              "    .dataframe tbody tr th:only-of-type {\n",
              "        vertical-align: middle;\n",
              "    }\n",
              "\n",
              "    .dataframe tbody tr th {\n",
              "        vertical-align: top;\n",
              "    }\n",
              "\n",
              "    .dataframe thead th {\n",
              "        text-align: right;\n",
              "    }\n",
              "</style>\n",
              "<table border=\"1\" class=\"dataframe\">\n",
              "  <thead>\n",
              "    <tr style=\"text-align: right;\">\n",
              "      <th></th>\n",
              "      <th>Date</th>\n",
              "      <th>Open</th>\n",
              "      <th>High</th>\n",
              "      <th>Low</th>\n",
              "      <th>Close</th>\n",
              "      <th>Adj Close</th>\n",
              "      <th>Volume</th>\n",
              "    </tr>\n",
              "  </thead>\n",
              "  <tbody>\n",
              "    <tr>\n",
              "      <th>0</th>\n",
              "      <td>2015-01-02</td>\n",
              "      <td>27.847500</td>\n",
              "      <td>27.860001</td>\n",
              "      <td>26.837500</td>\n",
              "      <td>27.332500</td>\n",
              "      <td>24.402168</td>\n",
              "      <td>212818400</td>\n",
              "    </tr>\n",
              "    <tr>\n",
              "      <th>1</th>\n",
              "      <td>2015-01-05</td>\n",
              "      <td>27.072500</td>\n",
              "      <td>27.162500</td>\n",
              "      <td>26.352501</td>\n",
              "      <td>26.562500</td>\n",
              "      <td>23.714725</td>\n",
              "      <td>257142000</td>\n",
              "    </tr>\n",
              "    <tr>\n",
              "      <th>2</th>\n",
              "      <td>2015-01-06</td>\n",
              "      <td>26.635000</td>\n",
              "      <td>26.857500</td>\n",
              "      <td>26.157499</td>\n",
              "      <td>26.565001</td>\n",
              "      <td>23.716961</td>\n",
              "      <td>263188400</td>\n",
              "    </tr>\n",
              "    <tr>\n",
              "      <th>3</th>\n",
              "      <td>2015-01-07</td>\n",
              "      <td>26.799999</td>\n",
              "      <td>27.049999</td>\n",
              "      <td>26.674999</td>\n",
              "      <td>26.937500</td>\n",
              "      <td>24.049515</td>\n",
              "      <td>160423600</td>\n",
              "    </tr>\n",
              "    <tr>\n",
              "      <th>4</th>\n",
              "      <td>2015-01-08</td>\n",
              "      <td>27.307501</td>\n",
              "      <td>28.037500</td>\n",
              "      <td>27.174999</td>\n",
              "      <td>27.972500</td>\n",
              "      <td>24.973558</td>\n",
              "      <td>237458000</td>\n",
              "    </tr>\n",
              "  </tbody>\n",
              "</table>\n",
              "</div>"
            ],
            "text/plain": [
              "        Date       Open       High        Low      Close  Adj Close     Volume\n",
              "0 2015-01-02  27.847500  27.860001  26.837500  27.332500  24.402168  212818400\n",
              "1 2015-01-05  27.072500  27.162500  26.352501  26.562500  23.714725  257142000\n",
              "2 2015-01-06  26.635000  26.857500  26.157499  26.565001  23.716961  263188400\n",
              "3 2015-01-07  26.799999  27.049999  26.674999  26.937500  24.049515  160423600\n",
              "4 2015-01-08  27.307501  28.037500  27.174999  27.972500  24.973558  237458000"
            ]
          },
          "execution_count": 7,
          "metadata": {},
          "output_type": "execute_result"
        }
      ],
      "source": [
        "df= df.reset_index()\n",
        "df.head()"
      ]
    },
    {
      "cell_type": "code",
      "execution_count": 8,
      "metadata": {
        "colab": {
          "base_uri": "https://localhost:8080/",
          "height": 206
        },
        "id": "Lh04KUTOuFM2",
        "outputId": "682467ec-ddf2-43c1-d2d2-088e4153e2b2"
      },
      "outputs": [
        {
          "data": {
            "text/html": [
              "<div>\n",
              "<style scoped>\n",
              "    .dataframe tbody tr th:only-of-type {\n",
              "        vertical-align: middle;\n",
              "    }\n",
              "\n",
              "    .dataframe tbody tr th {\n",
              "        vertical-align: top;\n",
              "    }\n",
              "\n",
              "    .dataframe thead th {\n",
              "        text-align: right;\n",
              "    }\n",
              "</style>\n",
              "<table border=\"1\" class=\"dataframe\">\n",
              "  <thead>\n",
              "    <tr style=\"text-align: right;\">\n",
              "      <th></th>\n",
              "      <th>Open</th>\n",
              "      <th>High</th>\n",
              "      <th>Low</th>\n",
              "      <th>Close</th>\n",
              "      <th>Volume</th>\n",
              "    </tr>\n",
              "  </thead>\n",
              "  <tbody>\n",
              "    <tr>\n",
              "      <th>0</th>\n",
              "      <td>27.847500</td>\n",
              "      <td>27.860001</td>\n",
              "      <td>26.837500</td>\n",
              "      <td>27.332500</td>\n",
              "      <td>212818400</td>\n",
              "    </tr>\n",
              "    <tr>\n",
              "      <th>1</th>\n",
              "      <td>27.072500</td>\n",
              "      <td>27.162500</td>\n",
              "      <td>26.352501</td>\n",
              "      <td>26.562500</td>\n",
              "      <td>257142000</td>\n",
              "    </tr>\n",
              "    <tr>\n",
              "      <th>2</th>\n",
              "      <td>26.635000</td>\n",
              "      <td>26.857500</td>\n",
              "      <td>26.157499</td>\n",
              "      <td>26.565001</td>\n",
              "      <td>263188400</td>\n",
              "    </tr>\n",
              "    <tr>\n",
              "      <th>3</th>\n",
              "      <td>26.799999</td>\n",
              "      <td>27.049999</td>\n",
              "      <td>26.674999</td>\n",
              "      <td>26.937500</td>\n",
              "      <td>160423600</td>\n",
              "    </tr>\n",
              "    <tr>\n",
              "      <th>4</th>\n",
              "      <td>27.307501</td>\n",
              "      <td>28.037500</td>\n",
              "      <td>27.174999</td>\n",
              "      <td>27.972500</td>\n",
              "      <td>237458000</td>\n",
              "    </tr>\n",
              "  </tbody>\n",
              "</table>\n",
              "</div>"
            ],
            "text/plain": [
              "        Open       High        Low      Close     Volume\n",
              "0  27.847500  27.860001  26.837500  27.332500  212818400\n",
              "1  27.072500  27.162500  26.352501  26.562500  257142000\n",
              "2  26.635000  26.857500  26.157499  26.565001  263188400\n",
              "3  26.799999  27.049999  26.674999  26.937500  160423600\n",
              "4  27.307501  28.037500  27.174999  27.972500  237458000"
            ]
          },
          "execution_count": 8,
          "metadata": {},
          "output_type": "execute_result"
        }
      ],
      "source": [
        "df=df.drop(['Date','Adj Close'],axis=1)\n",
        "df.head()"
      ]
    },
    {
      "cell_type": "code",
      "execution_count": 9,
      "metadata": {
        "colab": {
          "base_uri": "https://localhost:8080/",
          "height": 447
        },
        "id": "BAsljYBkusZy",
        "outputId": "a5890796-50f1-4e7b-ad16-cb95b048609e"
      },
      "outputs": [
        {
          "data": {
            "text/plain": [
              "[<matplotlib.lines.Line2D at 0x16dc66da3c0>]"
            ]
          },
          "execution_count": 9,
          "metadata": {},
          "output_type": "execute_result"
        },
        {
          "data": {
            "image/png": "[encoded data removed]",
            "text/plain": [
              "<Figure size 640x480 with 1 Axes>"
            ]
          },
          "metadata": {},
          "output_type": "display_data"
        }
      ],
      "source": [
        "plt.plot(df['Close'])"
      ]
    },
    {
      "cell_type": "code",
      "execution_count": 10,
      "metadata": {
        "colab": {
          "base_uri": "https://localhost:8080/",
          "height": 1000
        },
        "id": "tXMitMV7uxVH",
        "outputId": "3fa6a53f-1032-4abb-8ea7-af10dc361ea9"
      },
      "outputs": [
        {
          "data": {
            "text/plain": [
              "0              NaN\n",
              "1              NaN\n",
              "2              NaN\n",
              "3              NaN\n",
              "4              NaN\n",
              "           ...    \n",
              "2259    181.768301\n",
              "2260    181.787101\n",
              "2261    181.898701\n",
              "2262    182.046001\n",
              "2263    182.173301\n",
              "Name: Close, Length: 2264, dtype: float64"
            ]
          },
          "execution_count": 10,
          "metadata": {},
          "output_type": "execute_result"
        }
      ],
      "source": [
        "moving_avg100=df.Close.rolling(100).mean()\n",
        "moving_avg100"
      ]
    },
    {
      "cell_type": "code",
      "execution_count": 11,
      "metadata": {
        "colab": {
          "base_uri": "https://localhost:8080/",
          "height": 539
        },
        "id": "EBgUGAiOvWXf",
        "outputId": "8ed43e5b-686f-4dc7-a45d-0fa9a4f9dc58"
      },
      "outputs": [
        {
          "data": {
            "text/plain": [
              "[<matplotlib.lines.Line2D at 0x16dc7c20350>]"
            ]
          },
          "execution_count": 11,
          "metadata": {},
          "output_type": "execute_result"
        },
        {
          "data": {
            "image/png": "[encoded data removed]",
            "text/plain": [
              "<Figure size 1200x600 with 1 Axes>"
            ]
          },
          "metadata": {},
          "output_type": "display_data"
        }
      ],
      "source": [
        "plt.figure(figsize=(12,6))\n",
        "plt.plot(df['Close'])\n",
        "plt.plot(moving_avg100,'r')"
      ]
    },
    {
      "cell_type": "code",
      "execution_count": 12,
      "metadata": {
        "colab": {
          "base_uri": "https://localhost:8080/",
          "height": 1000
        },
        "id": "MEyYmq7JvWUH",
        "outputId": "b4449dbf-b623-4651-d9b5-7ce4a38a9ffe"
      },
      "outputs": [
        {
          "data": {
            "text/plain": [
              "0              NaN\n",
              "1              NaN\n",
              "2              NaN\n",
              "3              NaN\n",
              "4              NaN\n",
              "           ...    \n",
              "2259    178.649100\n",
              "2260    178.871851\n",
              "2261    179.085250\n",
              "2262    179.290201\n",
              "2263    179.487900\n",
              "Name: Close, Length: 2264, dtype: float64"
            ]
          },
          "execution_count": 12,
          "metadata": {},
          "output_type": "execute_result"
        }
      ],
      "source": [
        "moving_avg200=df.Close.rolling(200).mean()\n",
        "moving_avg200"
      ]
    },
    {
      "cell_type": "code",
      "execution_count": 13,
      "metadata": {
        "colab": {
          "base_uri": "https://localhost:8080/",
          "height": 539
        },
        "id": "9Ey5QaeTvWRj",
        "outputId": "0a41e4c7-54f3-44ff-c758-bcf45a4e3c12"
      },
      "outputs": [
        {
          "data": {
            "text/plain": [
              "[<matplotlib.lines.Line2D at 0x16dc6569580>]"
            ]
          },
          "execution_count": 13,
          "metadata": {},
          "output_type": "execute_result"
        },
        {
          "data": {
            "image/png": "[encoded data removed]",
            "text/plain": [
              "<Figure size 1200x600 with 1 Axes>"
            ]
          },
          "metadata": {},
          "output_type": "display_data"
        }
      ],
      "source": [
        "plt.figure(figsize=(12,6))\n",
        "plt.plot(df['Close'])\n",
        "plt.plot(moving_avg100,'r')\n",
        "plt.plot(moving_avg200,'g')"
      ]
    },
    {
      "cell_type": "code",
      "execution_count": 14,
      "metadata": {
        "colab": {
          "base_uri": "https://localhost:8080/"
        },
        "id": "Es_mv7R2vWOw",
        "outputId": "1e468b8f-ec91-4699-f141-3355ea5e07e2"
      },
      "outputs": [
        {
          "data": {
            "text/plain": [
              "(2264, 5)"
            ]
          },
          "execution_count": 14,
          "metadata": {},
          "output_type": "execute_result"
        }
      ],
      "source": [
        "df.shape"
      ]
    },
    {
      "cell_type": "markdown",
      "metadata": {
        "id": "XqB2MOHJv5v-"
      },
      "source": [
        "##**Build Machine Learning model**"
      ]
    },
    {
      "cell_type": "markdown",
      "metadata": {
        "id": "mFB33_Zwxl5V"
      },
      "source": [
        "**Machine Learning Libraries:**"
      ]
    },
    {
      "cell_type": "code",
      "execution_count": 16,
      "metadata": {
        "id": "tZSlKnw5xlUp"
      },
      "outputs": [],
      "source": [
        "import tensorflow as tf\n",
        "from tensorflow import keras\n",
        "from sklearn.preprocessing import MinMaxScaler\n",
        "from keras.models import Sequential\n",
        "from keras.layers import Dense, Dropout, LSTM"
      ]
    },
    {
      "cell_type": "code",
      "execution_count": 17,
      "metadata": {
        "colab": {
          "base_uri": "https://localhost:8080/"
        },
        "id": "rxbkTvP9v4aB",
        "outputId": "46b932f3-8d93-4c47-cb7b-c9b1bab08bbb"
      },
      "outputs": [
        {
          "name": "stdout",
          "output_type": "stream",
          "text": [
            "(1584, 1)\n",
            "(680, 1)\n"
          ]
        }
      ],
      "source": [
        "#Splitting the Dataset\n",
        "train=pd.DataFrame(df['Close'][0:int(len(df)*0.70)])\n",
        "test=pd.DataFrame(df['Close'][int(len(df)*0.70):int(len(df))])\n",
        "print(train.shape)\n",
        "print(test.shape)"
      ]
    },
    {
      "cell_type": "code",
      "execution_count": 18,
      "metadata": {
        "colab": {
          "base_uri": "https://localhost:8080/",
          "height": 206
        },
        "id": "aU_0V2H6vWIw",
        "outputId": "096d3fa5-254b-497a-ab5b-142517bf324a"
      },
      "outputs": [
        {
          "data": {
            "text/html": [
              "<div>\n",
              "<style scoped>\n",
              "    .dataframe tbody tr th:only-of-type {\n",
              "        vertical-align: middle;\n",
              "    }\n",
              "\n",
              "    .dataframe tbody tr th {\n",
              "        vertical-align: top;\n",
              "    }\n",
              "\n",
              "    .dataframe thead th {\n",
              "        text-align: right;\n",
              "    }\n",
              "</style>\n",
              "<table border=\"1\" class=\"dataframe\">\n",
              "  <thead>\n",
              "    <tr style=\"text-align: right;\">\n",
              "      <th></th>\n",
              "      <th>Close</th>\n",
              "    </tr>\n",
              "  </thead>\n",
              "  <tbody>\n",
              "    <tr>\n",
              "      <th>0</th>\n",
              "      <td>27.332500</td>\n",
              "    </tr>\n",
              "    <tr>\n",
              "      <th>1</th>\n",
              "      <td>26.562500</td>\n",
              "    </tr>\n",
              "    <tr>\n",
              "      <th>2</th>\n",
              "      <td>26.565001</td>\n",
              "    </tr>\n",
              "    <tr>\n",
              "      <th>3</th>\n",
              "      <td>26.937500</td>\n",
              "    </tr>\n",
              "    <tr>\n",
              "      <th>4</th>\n",
              "      <td>27.972500</td>\n",
              "    </tr>\n",
              "  </tbody>\n",
              "</table>\n",
              "</div>"
            ],
            "text/plain": [
              "       Close\n",
              "0  27.332500\n",
              "1  26.562500\n",
              "2  26.565001\n",
              "3  26.937500\n",
              "4  27.972500"
            ]
          },
          "execution_count": 18,
          "metadata": {},
          "output_type": "execute_result"
        }
      ],
      "source": [
        "train.head()"
      ]
    },
    {
      "cell_type": "code",
      "execution_count": 19,
      "metadata": {
        "colab": {
          "base_uri": "https://localhost:8080/",
          "height": 206
        },
        "id": "oXEE7miCxbYF",
        "outputId": "ae851c15-edc3-45fd-f4f1-9f0409b06dc1"
      },
      "outputs": [
        {
          "data": {
            "text/html": [
              "<div>\n",
              "<style scoped>\n",
              "    .dataframe tbody tr th:only-of-type {\n",
              "        vertical-align: middle;\n",
              "    }\n",
              "\n",
              "    .dataframe tbody tr th {\n",
              "        vertical-align: top;\n",
              "    }\n",
              "\n",
              "    .dataframe thead th {\n",
              "        text-align: right;\n",
              "    }\n",
              "</style>\n",
              "<table border=\"1\" class=\"dataframe\">\n",
              "  <thead>\n",
              "    <tr style=\"text-align: right;\">\n",
              "      <th></th>\n",
              "      <th>Close</th>\n",
              "    </tr>\n",
              "  </thead>\n",
              "  <tbody>\n",
              "    <tr>\n",
              "      <th>1584</th>\n",
              "      <td>133.110001</td>\n",
              "    </tr>\n",
              "    <tr>\n",
              "      <th>1585</th>\n",
              "      <td>133.500000</td>\n",
              "    </tr>\n",
              "    <tr>\n",
              "      <th>1586</th>\n",
              "      <td>131.940002</td>\n",
              "    </tr>\n",
              "    <tr>\n",
              "      <th>1587</th>\n",
              "      <td>134.320007</td>\n",
              "    </tr>\n",
              "    <tr>\n",
              "      <th>1588</th>\n",
              "      <td>134.720001</td>\n",
              "    </tr>\n",
              "  </tbody>\n",
              "</table>\n",
              "</div>"
            ],
            "text/plain": [
              "           Close\n",
              "1584  133.110001\n",
              "1585  133.500000\n",
              "1586  131.940002\n",
              "1587  134.320007\n",
              "1588  134.720001"
            ]
          },
          "execution_count": 19,
          "metadata": {},
          "output_type": "execute_result"
        }
      ],
      "source": [
        "test.head()"
      ]
    },
    {
      "cell_type": "code",
      "execution_count": 20,
      "metadata": {
        "id": "sa7_maY-xbUi"
      },
      "outputs": [],
      "source": [
        "scaler=MinMaxScaler(feature_range=(0,1))"
      ]
    },
    {
      "cell_type": "code",
      "execution_count": 21,
      "metadata": {
        "colab": {
          "base_uri": "https://localhost:8080/"
        },
        "id": "q8C2asGLxbRp",
        "outputId": "9e34906e-3c1c-4d6a-c4c5-e91193661aa1"
      },
      "outputs": [
        {
          "data": {
            "text/plain": [
              "array([[0.03937384],\n",
              "       [0.03298777],\n",
              "       [0.03300851],\n",
              "       ...,\n",
              "       [0.92817746],\n",
              "       [0.92535766],\n",
              "       [0.93099725]])"
            ]
          },
          "execution_count": 21,
          "metadata": {},
          "output_type": "execute_result"
        }
      ],
      "source": [
        "train_array=scaler.fit_transform(train)\n",
        "\n",
        "train_array\n",
        "\n",
        "\n",
        "\n",
        "\n"
      ]
    },
    {
      "cell_type": "code",
      "execution_count": 22,
      "metadata": {
        "colab": {
          "base_uri": "https://localhost:8080/"
        },
        "id": "CGU19iTw6KUx",
        "outputId": "04d965dd-2af9-45db-b2a0-3f8173394040"
      },
      "outputs": [
        {
          "data": {
            "text/plain": [
              "(1584, 1)"
            ]
          },
          "execution_count": 22,
          "metadata": {},
          "output_type": "execute_result"
        }
      ],
      "source": [
        "train_array.shape"
      ]
    },
    {
      "cell_type": "code",
      "execution_count": 23,
      "metadata": {
        "id": "rV9SUY86xbOx"
      },
      "outputs": [],
      "source": [
        "x_train=[]   #This list will store sequences of data, which serve as input features for the model.\n",
        "y_train=[]   #This list will store the corresponding target values (labels) that the model should predict.\n",
        "\n",
        "for i in range(100,train_array.shape[0]):\n",
        "  x_train.append(train_array[i-100:i])\n",
        "  y_train.append(train_array[i,0])\n"
      ]
    },
    {
      "cell_type": "code",
      "execution_count": 24,
      "metadata": {
        "id": "BJPbk8IGxbLz"
      },
      "outputs": [],
      "source": [
        "x_train,y_train=np.array(x_train),np.array(y_train)"
      ]
    },
    {
      "cell_type": "code",
      "execution_count": 25,
      "metadata": {
        "colab": {
          "base_uri": "https://localhost:8080/"
        },
        "id": "UPEU_bi28ro5",
        "outputId": "821ef0ea-af0c-4ceb-bfba-c1e3d5d696ab"
      },
      "outputs": [
        {
          "data": {
            "text/plain": [
              "(1484, 100, 1)"
            ]
          },
          "execution_count": 25,
          "metadata": {},
          "output_type": "execute_result"
        }
      ],
      "source": [
        "x_train.shape #(num_samples, timesteps, features)"
      ]
    },
    {
      "cell_type": "code",
      "execution_count": 26,
      "metadata": {
        "colab": {
          "base_uri": "https://localhost:8080/"
        },
        "id": "d2xVye06_Xyo",
        "outputId": "ad466e2a-b17c-4dac-beb3-424b7b210bf5"
      },
      "outputs": [
        {
          "data": {
            "text/plain": [
              "100"
            ]
          },
          "execution_count": 26,
          "metadata": {},
          "output_type": "execute_result"
        }
      ],
      "source": [
        "x_train.shape[1]"
      ]
    },
    {
      "cell_type": "code",
      "execution_count": 27,
      "metadata": {
        "id": "S7OFAHAexbI1"
      },
      "outputs": [],
      "source": [
        "model=Sequential()\n",
        "model.add(LSTM(units=50,activation='relu',return_sequences=True,input_shape=(x_train.shape[1],1)))\n",
        "model.add(Dropout(0.2))\n",
        "\n",
        "model=Sequential()\n",
        "model.add(LSTM(units=60,activation='relu',return_sequences=True))\n",
        "model.add(Dropout(0.3))\n",
        "\n",
        "model=Sequential()\n",
        "model.add(LSTM(units=80,activation='relu',return_sequences=True))\n",
        "model.add(Dropout(0.4))\n",
        "\n",
        "model=Sequential()\n",
        "model.add(LSTM(units=120,activation='relu'))\n",
        "model.add(Dropout(0.5))\n",
        "\n",
        "model.add(Dense(units=1))\n"
      ]
    },
    {
      "cell_type": "code",
      "execution_count": 29,
      "metadata": {
        "colab": {
          "base_uri": "https://localhost:8080/"
        },
        "id": "NbiiPt0gAHxO",
        "outputId": "5b5d16da-258a-4459-89b7-38701ed6a29a"
      },
      "outputs": [
        {
          "data": {
            "text/html": [
              "<pre style=\"white-space:pre;overflow-x:auto;line-height:normal;font-family:Menlo,'DejaVu Sans Mono',consolas,'Courier New',monospace\"><span style=\"font-weight: bold\">Model: \"sequential_3\"</span>\n",
              "</pre>\n"
            ],
            "text/plain": [
              "\u001b[1mModel: \"sequential_3\"\u001b[0m\n"
            ]
          },
          "metadata": {},
          "output_type": "display_data"
        },
        {
          "data": {
            "text/html": [
              "<pre style=\"white-space:pre;overflow-x:auto;line-height:normal;font-family:Menlo,'DejaVu Sans Mono',consolas,'Courier New',monospace\">┏━━━━━━━━━━━━━━━━━━━━━━━━━━━━━━━━━┳━━━━━━━━━━━━━━━━━━━━━━━━┳━━━━━━━━━━━━━━━┓\n",
              "┃<span style=\"font-weight: bold\"> Layer (type)                    </span>┃<span style=\"font-weight: bold\"> Output Shape           </span>┃<span style=\"font-weight: bold\">       Param # </span>┃\n",
              "┡━━━━━━━━━━━━━━━━━━━━━━━━━━━━━━━━━╇━━━━━━━━━━━━━━━━━━━━━━━━╇━━━━━━━━━━━━━━━┩\n",
              "│ lstm_3 (<span style=\"color: #0087ff; text-decoration-color: #0087ff\">LSTM</span>)                   │ (<span style=\"color: #00d7ff; text-decoration-color: #00d7ff\">None</span>, <span style=\"color: #00af00; text-decoration-color: #00af00\">120</span>)            │        <span style=\"color: #00af00; text-decoration-color: #00af00\">58,560</span> │\n",
              "├─────────────────────────────────┼────────────────────────┼───────────────┤\n",
              "│ dropout_3 (<span style=\"color: #0087ff; text-decoration-color: #0087ff\">Dropout</span>)             │ (<span style=\"color: #00d7ff; text-decoration-color: #00d7ff\">None</span>, <span style=\"color: #00af00; text-decoration-color: #00af00\">120</span>)            │             <span style=\"color: #00af00; text-decoration-color: #00af00\">0</span> │\n",
              "├─────────────────────────────────┼────────────────────────┼───────────────┤\n",
              "│ dense (<span style=\"color: #0087ff; text-decoration-color: #0087ff\">Dense</span>)                   │ (<span style=\"color: #00d7ff; text-decoration-color: #00d7ff\">None</span>, <span style=\"color: #00af00; text-decoration-color: #00af00\">1</span>)              │           <span style=\"color: #00af00; text-decoration-color: #00af00\">121</span> │\n",
              "└─────────────────────────────────┴────────────────────────┴───────────────┘\n",
              "</pre>\n"
            ],
            "text/plain": [
              "┏━━━━━━━━━━━━━━━━━━━━━━━━━━━━━━━━━┳━━━━━━━━━━━━━━━━━━━━━━━━┳━━━━━━━━━━━━━━━┓\n",
              "┃\u001b[1m \u001b[0m\u001b[1mLayer (type)                   \u001b[0m\u001b[1m \u001b[0m┃\u001b[1m \u001b[0m\u001b[1mOutput Shape          \u001b[0m\u001b[1m \u001b[0m┃\u001b[1m \u001b[0m\u001b[1m      Param #\u001b[0m\u001b[1m \u001b[0m┃\n",
              "┡━━━━━━━━━━━━━━━━━━━━━━━━━━━━━━━━━╇━━━━━━━━━━━━━━━━━━━━━━━━╇━━━━━━━━━━━━━━━┩\n",
              "│ lstm_3 (\u001b[38;5;33mLSTM\u001b[0m)                   │ (\u001b[38;5;45mNone\u001b[0m, \u001b[38;5;34m120\u001b[0m)            │        \u001b[38;5;34m58,560\u001b[0m │\n",
              "├─────────────────────────────────┼────────────────────────┼───────────────┤\n",
              "│ dropout_3 (\u001b[38;5;33mDropout\u001b[0m)             │ (\u001b[38;5;45mNone\u001b[0m, \u001b[38;5;34m120\u001b[0m)            │             \u001b[38;5;34m0\u001b[0m │\n",
              "├─────────────────────────────────┼────────────────────────┼───────────────┤\n",
              "│ dense (\u001b[38;5;33mDense\u001b[0m)                   │ (\u001b[38;5;45mNone\u001b[0m, \u001b[38;5;34m1\u001b[0m)              │           \u001b[38;5;34m121\u001b[0m │\n",
              "└─────────────────────────────────┴────────────────────────┴───────────────┘\n"
            ]
          },
          "metadata": {},
          "output_type": "display_data"
        },
        {
          "data": {
            "text/html": [
              "<pre style=\"white-space:pre;overflow-x:auto;line-height:normal;font-family:Menlo,'DejaVu Sans Mono',consolas,'Courier New',monospace\"><span style=\"font-weight: bold\"> Total params: </span><span style=\"color: #00af00; text-decoration-color: #00af00\">58,681</span> (229.22 KB)\n",
              "</pre>\n"
            ],
            "text/plain": [
              "\u001b[1m Total params: \u001b[0m\u001b[38;5;34m58,681\u001b[0m (229.22 KB)\n"
            ]
          },
          "metadata": {},
          "output_type": "display_data"
        },
        {
          "data": {
            "text/html": [
              "<pre style=\"white-space:pre;overflow-x:auto;line-height:normal;font-family:Menlo,'DejaVu Sans Mono',consolas,'Courier New',monospace\"><span style=\"font-weight: bold\"> Trainable params: </span><span style=\"color: #00af00; text-decoration-color: #00af00\">58,681</span> (229.22 KB)\n",
              "</pre>\n"
            ],
            "text/plain": [
              "\u001b[1m Trainable params: \u001b[0m\u001b[38;5;34m58,681\u001b[0m (229.22 KB)\n"
            ]
          },
          "metadata": {},
          "output_type": "display_data"
        },
        {
          "data": {
            "text/html": [
              "<pre style=\"white-space:pre;overflow-x:auto;line-height:normal;font-family:Menlo,'DejaVu Sans Mono',consolas,'Courier New',monospace\"><span style=\"font-weight: bold\"> Non-trainable params: </span><span style=\"color: #00af00; text-decoration-color: #00af00\">0</span> (0.00 B)\n",
              "</pre>\n"
            ],
            "text/plain": [
              "\u001b[1m Non-trainable params: \u001b[0m\u001b[38;5;34m0\u001b[0m (0.00 B)\n"
            ]
          },
          "metadata": {},
          "output_type": "display_data"
        }
      ],
      "source": [
        "# Optionally build the model\n",
        "model.build(input_shape=(None, x_train.shape[1], 1))\n",
        "\n",
        "# Optionally run a dummy input to set the model's input shape\n",
        "sample_input = np.zeros((1, x_train.shape[1], 1))\n",
        "model(sample_input)\n",
        "\n",
        "# Print model summary\n",
        "model.summary()"
      ]
    },
    {
      "cell_type": "code",
      "execution_count": 30,
      "metadata": {
        "colab": {
          "base_uri": "https://localhost:8080/"
        },
        "id": "M4pU_52bAepT",
        "outputId": "1b6e4a53-9c9d-4d98-cc80-bb3e53866023"
      },
      "outputs": [
        {
          "name": "stdout",
          "output_type": "stream",
          "text": [
            "Epoch 1/50\n",
            "\u001b[1m47/47\u001b[0m \u001b[32m━━━━━━━━━━━━━━━━━━━━\u001b[0m\u001b[37m\u001b[0m \u001b[1m5s\u001b[0m 55ms/step - loss: 0.0714\n",
            "Epoch 2/50\n",
            "\u001b[1m47/47\u001b[0m \u001b[32m━━━━━━━━━━━━━━━━━━━━\u001b[0m\u001b[37m\u001b[0m \u001b[1m9s\u001b[0m 184ms/step - loss: 0.0059\n",
            "Epoch 3/50\n",
            "\u001b[1m47/47\u001b[0m \u001b[32m━━━━━━━━━━━━━━━━━━━━\u001b[0m\u001b[37m\u001b[0m \u001b[1m10s\u001b[0m 210ms/step - loss: 0.0051\n",
            "Epoch 4/50\n",
            "\u001b[1m47/47\u001b[0m \u001b[32m━━━━━━━━━━━━━━━━━━━━\u001b[0m\u001b[37m\u001b[0m \u001b[1m11s\u001b[0m 238ms/step - loss: 0.0041\n",
            "Epoch 5/50\n",
            "\u001b[1m47/47\u001b[0m \u001b[32m━━━━━━━━━━━━━━━━━━━━\u001b[0m\u001b[37m\u001b[0m \u001b[1m9s\u001b[0m 181ms/step - loss: 0.0045\n",
            "Epoch 6/50\n",
            "\u001b[1m47/47\u001b[0m \u001b[32m━━━━━━━━━━━━━━━━━━━━\u001b[0m\u001b[37m\u001b[0m \u001b[1m7s\u001b[0m 152ms/step - loss: 0.0037\n",
            "Epoch 7/50\n",
            "\u001b[1m47/47\u001b[0m \u001b[32m━━━━━━━━━━━━━━━━━━━━\u001b[0m\u001b[37m\u001b[0m \u001b[1m8s\u001b[0m 167ms/step - loss: 0.0030\n",
            "Epoch 8/50\n",
            "\u001b[1m47/47\u001b[0m \u001b[32m━━━━━━━━━━━━━━━━━━━━\u001b[0m\u001b[37m\u001b[0m \u001b[1m8s\u001b[0m 164ms/step - loss: 0.0032\n",
            "Epoch 9/50\n",
            "\u001b[1m47/47\u001b[0m \u001b[32m━━━━━━━━━━━━━━━━━━━━\u001b[0m\u001b[37m\u001b[0m \u001b[1m8s\u001b[0m 156ms/step - loss: 0.0035\n",
            "Epoch 10/50\n",
            "\u001b[1m47/47\u001b[0m \u001b[32m━━━━━━━━━━━━━━━━━━━━\u001b[0m\u001b[37m\u001b[0m \u001b[1m6s\u001b[0m 133ms/step - loss: 0.0032\n",
            "Epoch 11/50\n",
            "\u001b[1m47/47\u001b[0m \u001b[32m━━━━━━━━━━━━━━━━━━━━\u001b[0m\u001b[37m\u001b[0m \u001b[1m5s\u001b[0m 106ms/step - loss: 0.0036\n",
            "Epoch 12/50\n",
            "\u001b[1m47/47\u001b[0m \u001b[32m━━━━━━━━━━━━━━━━━━━━\u001b[0m\u001b[37m\u001b[0m \u001b[1m5s\u001b[0m 103ms/step - loss: 0.0029\n",
            "Epoch 13/50\n",
            "\u001b[1m47/47\u001b[0m \u001b[32m━━━━━━━━━━━━━━━━━━━━\u001b[0m\u001b[37m\u001b[0m \u001b[1m4s\u001b[0m 82ms/step - loss: 0.0033\n",
            "Epoch 14/50\n",
            "\u001b[1m47/47\u001b[0m \u001b[32m━━━━━━━━━━━━━━━━━━━━\u001b[0m\u001b[37m\u001b[0m \u001b[1m4s\u001b[0m 75ms/step - loss: 0.0031\n",
            "Epoch 15/50\n",
            "\u001b[1m47/47\u001b[0m \u001b[32m━━━━━━━━━━━━━━━━━━━━\u001b[0m\u001b[37m\u001b[0m \u001b[1m3s\u001b[0m 73ms/step - loss: 0.0036\n",
            "Epoch 16/50\n",
            "\u001b[1m47/47\u001b[0m \u001b[32m━━━━━━━━━━━━━━━━━━━━\u001b[0m\u001b[37m\u001b[0m \u001b[1m4s\u001b[0m 75ms/step - loss: 0.0036\n",
            "Epoch 17/50\n",
            "\u001b[1m47/47\u001b[0m \u001b[32m━━━━━━━━━━━━━━━━━━━━\u001b[0m\u001b[37m\u001b[0m \u001b[1m3s\u001b[0m 66ms/step - loss: 0.0033\n",
            "Epoch 18/50\n",
            "\u001b[1m47/47\u001b[0m \u001b[32m━━━━━━━━━━━━━━━━━━━━\u001b[0m\u001b[37m\u001b[0m \u001b[1m3s\u001b[0m 66ms/step - loss: 0.0024\n",
            "Epoch 19/50\n",
            "\u001b[1m47/47\u001b[0m \u001b[32m━━━━━━━━━━━━━━━━━━━━\u001b[0m\u001b[37m\u001b[0m \u001b[1m3s\u001b[0m 63ms/step - loss: 0.0026\n",
            "Epoch 20/50\n",
            "\u001b[1m47/47\u001b[0m \u001b[32m━━━━━━━━━━━━━━━━━━━━\u001b[0m\u001b[37m\u001b[0m \u001b[1m3s\u001b[0m 62ms/step - loss: 0.0024\n",
            "Epoch 21/50\n",
            "\u001b[1m47/47\u001b[0m \u001b[32m━━━━━━━━━━━━━━━━━━━━\u001b[0m\u001b[37m\u001b[0m \u001b[1m4s\u001b[0m 74ms/step - loss: 0.0022\n",
            "Epoch 22/50\n",
            "\u001b[1m47/47\u001b[0m \u001b[32m━━━━━━━━━━━━━━━━━━━━\u001b[0m\u001b[37m\u001b[0m \u001b[1m3s\u001b[0m 66ms/step - loss: 0.0030\n",
            "Epoch 23/50\n",
            "\u001b[1m47/47\u001b[0m \u001b[32m━━━━━━━━━━━━━━━━━━━━\u001b[0m\u001b[37m\u001b[0m \u001b[1m3s\u001b[0m 73ms/step - loss: 0.0030\n",
            "Epoch 24/50\n",
            "\u001b[1m47/47\u001b[0m \u001b[32m━━━━━━━━━━━━━━━━━━━━\u001b[0m\u001b[37m\u001b[0m \u001b[1m4s\u001b[0m 88ms/step - loss: 0.0026\n",
            "Epoch 25/50\n",
            "\u001b[1m47/47\u001b[0m \u001b[32m━━━━━━━━━━━━━━━━━━━━\u001b[0m\u001b[37m\u001b[0m \u001b[1m4s\u001b[0m 85ms/step - loss: 0.0032\n",
            "Epoch 26/50\n",
            "\u001b[1m47/47\u001b[0m \u001b[32m━━━━━━━━━━━━━━━━━━━━\u001b[0m\u001b[37m\u001b[0m \u001b[1m4s\u001b[0m 85ms/step - loss: 0.0035\n",
            "Epoch 27/50\n",
            "\u001b[1m47/47\u001b[0m \u001b[32m━━━━━━━━━━━━━━━━━━━━\u001b[0m\u001b[37m\u001b[0m \u001b[1m4s\u001b[0m 92ms/step - loss: 0.0025\n",
            "Epoch 28/50\n",
            "\u001b[1m47/47\u001b[0m \u001b[32m━━━━━━━━━━━━━━━━━━━━\u001b[0m\u001b[37m\u001b[0m \u001b[1m5s\u001b[0m 106ms/step - loss: 0.0026\n",
            "Epoch 29/50\n",
            "\u001b[1m47/47\u001b[0m \u001b[32m━━━━━━━━━━━━━━━━━━━━\u001b[0m\u001b[37m\u001b[0m \u001b[1m6s\u001b[0m 121ms/step - loss: 0.0025\n",
            "Epoch 30/50\n",
            "\u001b[1m47/47\u001b[0m \u001b[32m━━━━━━━━━━━━━━━━━━━━\u001b[0m\u001b[37m\u001b[0m \u001b[1m7s\u001b[0m 142ms/step - loss: 0.0028\n",
            "Epoch 31/50\n",
            "\u001b[1m47/47\u001b[0m \u001b[32m━━━━━━━━━━━━━━━━━━━━\u001b[0m\u001b[37m\u001b[0m \u001b[1m7s\u001b[0m 157ms/step - loss: 0.0025\n",
            "Epoch 32/50\n",
            "\u001b[1m47/47\u001b[0m \u001b[32m━━━━━━━━━━━━━━━━━━━━\u001b[0m\u001b[37m\u001b[0m \u001b[1m8s\u001b[0m 161ms/step - loss: 0.0023\n",
            "Epoch 33/50\n",
            "\u001b[1m47/47\u001b[0m \u001b[32m━━━━━━━━━━━━━━━━━━━━\u001b[0m\u001b[37m\u001b[0m \u001b[1m6s\u001b[0m 135ms/step - loss: 0.0023\n",
            "Epoch 34/50\n",
            "\u001b[1m47/47\u001b[0m \u001b[32m━━━━━━━━━━━━━━━━━━━━\u001b[0m\u001b[37m\u001b[0m \u001b[1m7s\u001b[0m 147ms/step - loss: 0.0030\n",
            "Epoch 35/50\n",
            "\u001b[1m47/47\u001b[0m \u001b[32m━━━━━━━━━━━━━━━━━━━━\u001b[0m\u001b[37m\u001b[0m \u001b[1m7s\u001b[0m 151ms/step - loss: 0.0025\n",
            "Epoch 36/50\n",
            "\u001b[1m47/47\u001b[0m \u001b[32m━━━━━━━━━━━━━━━━━━━━\u001b[0m\u001b[37m\u001b[0m \u001b[1m5s\u001b[0m 110ms/step - loss: 0.0032\n",
            "Epoch 37/50\n",
            "\u001b[1m47/47\u001b[0m \u001b[32m━━━━━━━━━━━━━━━━━━━━\u001b[0m\u001b[37m\u001b[0m \u001b[1m4s\u001b[0m 89ms/step - loss: 0.0030\n",
            "Epoch 38/50\n",
            "\u001b[1m47/47\u001b[0m \u001b[32m━━━━━━━━━━━━━━━━━━━━\u001b[0m\u001b[37m\u001b[0m \u001b[1m4s\u001b[0m 85ms/step - loss: 0.0025\n",
            "Epoch 39/50\n",
            "\u001b[1m47/47\u001b[0m \u001b[32m━━━━━━━━━━━━━━━━━━━━\u001b[0m\u001b[37m\u001b[0m \u001b[1m4s\u001b[0m 78ms/step - loss: 0.0022\n",
            "Epoch 40/50\n",
            "\u001b[1m47/47\u001b[0m \u001b[32m━━━━━━━━━━━━━━━━━━━━\u001b[0m\u001b[37m\u001b[0m \u001b[1m4s\u001b[0m 80ms/step - loss: 0.0029\n",
            "Epoch 41/50\n",
            "\u001b[1m47/47\u001b[0m \u001b[32m━━━━━━━━━━━━━━━━━━━━\u001b[0m\u001b[37m\u001b[0m \u001b[1m4s\u001b[0m 75ms/step - loss: 0.0026\n",
            "Epoch 42/50\n",
            "\u001b[1m47/47\u001b[0m \u001b[32m━━━━━━━━━━━━━━━━━━━━\u001b[0m\u001b[37m\u001b[0m \u001b[1m3s\u001b[0m 70ms/step - loss: 0.0031\n",
            "Epoch 43/50\n",
            "\u001b[1m47/47\u001b[0m \u001b[32m━━━━━━━━━━━━━━━━━━━━\u001b[0m\u001b[37m\u001b[0m \u001b[1m3s\u001b[0m 71ms/step - loss: 0.0024\n",
            "Epoch 44/50\n",
            "\u001b[1m47/47\u001b[0m \u001b[32m━━━━━━━━━━━━━━━━━━━━\u001b[0m\u001b[37m\u001b[0m \u001b[1m3s\u001b[0m 68ms/step - loss: 0.0023\n",
            "Epoch 45/50\n",
            "\u001b[1m47/47\u001b[0m \u001b[32m━━━━━━━━━━━━━━━━━━━━\u001b[0m\u001b[37m\u001b[0m \u001b[1m4s\u001b[0m 74ms/step - loss: 0.0029\n",
            "Epoch 46/50\n",
            "\u001b[1m47/47\u001b[0m \u001b[32m━━━━━━━━━━━━━━━━━━━━\u001b[0m\u001b[37m\u001b[0m \u001b[1m4s\u001b[0m 76ms/step - loss: 0.0024\n",
            "Epoch 47/50\n",
            "\u001b[1m47/47\u001b[0m \u001b[32m━━━━━━━━━━━━━━━━━━━━\u001b[0m\u001b[37m\u001b[0m \u001b[1m4s\u001b[0m 80ms/step - loss: 0.0025\n",
            "Epoch 48/50\n",
            "\u001b[1m47/47\u001b[0m \u001b[32m━━━━━━━━━━━━━━━━━━━━\u001b[0m\u001b[37m\u001b[0m \u001b[1m5s\u001b[0m 106ms/step - loss: 0.0020\n",
            "Epoch 49/50\n",
            "\u001b[1m47/47\u001b[0m \u001b[32m━━━━━━━━━━━━━━━━━━━━\u001b[0m\u001b[37m\u001b[0m \u001b[1m5s\u001b[0m 111ms/step - loss: 0.0020\n",
            "Epoch 50/50\n",
            "\u001b[1m47/47\u001b[0m \u001b[32m━━━━━━━━━━━━━━━━━━━━\u001b[0m\u001b[37m\u001b[0m \u001b[1m6s\u001b[0m 129ms/step - loss: 0.0022\n"
          ]
        },
        {
          "data": {
            "text/plain": [
              "<keras.src.callbacks.history.History at 0x16dd3a6bf20>"
            ]
          },
          "execution_count": 30,
          "metadata": {},
          "output_type": "execute_result"
        }
      ],
      "source": [
        "model.compile(optimizer='adam',loss='mean_squared_error')\n",
        "model.fit(x_train,y_train,epochs=50)"
      ]
    },
    {
      "cell_type": "code",
      "execution_count": 31,
      "metadata": {
        "id": "ujxWPTQuCi0c"
      },
      "outputs": [
        {
          "name": "stderr",
          "output_type": "stream",
          "text": [
            "WARNING:absl:You are saving your model as an HDF5 file via `model.save()` or `keras.saving.save_model(model)`. This file format is considered legacy. We recommend using instead the native Keras format, e.g. `model.save('my_model.keras')` or `keras.saving.save_model(model, 'my_model.keras')`. \n"
          ]
        }
      ],
      "source": [
        "model.save('keras_model.h5')"
      ]
    },
    {
      "cell_type": "code",
      "execution_count": 32,
      "metadata": {
        "colab": {
          "base_uri": "https://localhost:8080/",
          "height": 206
        },
        "id": "THFlvucYCmzG",
        "outputId": "5ab83455-d637-4186-b762-80f280a1c846"
      },
      "outputs": [
        {
          "data": {
            "text/html": [
              "<div>\n",
              "<style scoped>\n",
              "    .dataframe tbody tr th:only-of-type {\n",
              "        vertical-align: middle;\n",
              "    }\n",
              "\n",
              "    .dataframe tbody tr th {\n",
              "        vertical-align: top;\n",
              "    }\n",
              "\n",
              "    .dataframe thead th {\n",
              "        text-align: right;\n",
              "    }\n",
              "</style>\n",
              "<table border=\"1\" class=\"dataframe\">\n",
              "  <thead>\n",
              "    <tr style=\"text-align: right;\">\n",
              "      <th></th>\n",
              "      <th>Close</th>\n",
              "    </tr>\n",
              "  </thead>\n",
              "  <tbody>\n",
              "    <tr>\n",
              "      <th>1584</th>\n",
              "      <td>133.110001</td>\n",
              "    </tr>\n",
              "    <tr>\n",
              "      <th>1585</th>\n",
              "      <td>133.500000</td>\n",
              "    </tr>\n",
              "    <tr>\n",
              "      <th>1586</th>\n",
              "      <td>131.940002</td>\n",
              "    </tr>\n",
              "    <tr>\n",
              "      <th>1587</th>\n",
              "      <td>134.320007</td>\n",
              "    </tr>\n",
              "    <tr>\n",
              "      <th>1588</th>\n",
              "      <td>134.720001</td>\n",
              "    </tr>\n",
              "  </tbody>\n",
              "</table>\n",
              "</div>"
            ],
            "text/plain": [
              "           Close\n",
              "1584  133.110001\n",
              "1585  133.500000\n",
              "1586  131.940002\n",
              "1587  134.320007\n",
              "1588  134.720001"
            ]
          },
          "execution_count": 32,
          "metadata": {},
          "output_type": "execute_result"
        }
      ],
      "source": [
        "test.head()"
      ]
    },
    {
      "cell_type": "code",
      "execution_count": 33,
      "metadata": {
        "colab": {
          "base_uri": "https://localhost:8080/",
          "height": 206
        },
        "id": "rvvmz5NkCuJb",
        "outputId": "2ef02ed9-bb82-4d98-b803-eb6c18f3a0f4"
      },
      "outputs": [
        {
          "data": {
            "text/html": [
              "<div>\n",
              "<style scoped>\n",
              "    .dataframe tbody tr th:only-of-type {\n",
              "        vertical-align: middle;\n",
              "    }\n",
              "\n",
              "    .dataframe tbody tr th {\n",
              "        vertical-align: top;\n",
              "    }\n",
              "\n",
              "    .dataframe thead th {\n",
              "        text-align: right;\n",
              "    }\n",
              "</style>\n",
              "<table border=\"1\" class=\"dataframe\">\n",
              "  <thead>\n",
              "    <tr style=\"text-align: right;\">\n",
              "      <th></th>\n",
              "      <th>Close</th>\n",
              "    </tr>\n",
              "  </thead>\n",
              "  <tbody>\n",
              "    <tr>\n",
              "      <th>1579</th>\n",
              "      <td>134.429993</td>\n",
              "    </tr>\n",
              "    <tr>\n",
              "      <th>1580</th>\n",
              "      <td>132.029999</td>\n",
              "    </tr>\n",
              "    <tr>\n",
              "      <th>1581</th>\n",
              "      <td>134.500000</td>\n",
              "    </tr>\n",
              "    <tr>\n",
              "      <th>1582</th>\n",
              "      <td>134.160004</td>\n",
              "    </tr>\n",
              "    <tr>\n",
              "      <th>1583</th>\n",
              "      <td>134.839996</td>\n",
              "    </tr>\n",
              "  </tbody>\n",
              "</table>\n",
              "</div>"
            ],
            "text/plain": [
              "           Close\n",
              "1579  134.429993\n",
              "1580  132.029999\n",
              "1581  134.500000\n",
              "1582  134.160004\n",
              "1583  134.839996"
            ]
          },
          "execution_count": 33,
          "metadata": {},
          "output_type": "execute_result"
        }
      ],
      "source": [
        "train.tail()"
      ]
    },
    {
      "cell_type": "code",
      "execution_count": 34,
      "metadata": {
        "id": "G9i5RmwNAel5"
      },
      "outputs": [],
      "source": [
        "last_100_days=train.tail(100)"
      ]
    },
    {
      "cell_type": "code",
      "execution_count": 35,
      "metadata": {
        "id": "rIN4FJMoAejG"
      },
      "outputs": [],
      "source": [
        "final_df = pd.concat([last_100_days, test], ignore_index=True)"
      ]
    },
    {
      "cell_type": "code",
      "execution_count": 36,
      "metadata": {
        "colab": {
          "base_uri": "https://localhost:8080/",
          "height": 206
        },
        "id": "nztLAHlAAegc",
        "outputId": "90701ee7-4672-4d79-88ab-380f01587f45"
      },
      "outputs": [
        {
          "data": {
            "text/html": [
              "<div>\n",
              "<style scoped>\n",
              "    .dataframe tbody tr th:only-of-type {\n",
              "        vertical-align: middle;\n",
              "    }\n",
              "\n",
              "    .dataframe tbody tr th {\n",
              "        vertical-align: top;\n",
              "    }\n",
              "\n",
              "    .dataframe thead th {\n",
              "        text-align: right;\n",
              "    }\n",
              "</style>\n",
              "<table border=\"1\" class=\"dataframe\">\n",
              "  <thead>\n",
              "    <tr style=\"text-align: right;\">\n",
              "      <th></th>\n",
              "      <th>Close</th>\n",
              "    </tr>\n",
              "  </thead>\n",
              "  <tbody>\n",
              "    <tr>\n",
              "      <th>0</th>\n",
              "      <td>113.849998</td>\n",
              "    </tr>\n",
              "    <tr>\n",
              "      <th>1</th>\n",
              "      <td>115.169998</td>\n",
              "    </tr>\n",
              "    <tr>\n",
              "      <th>2</th>\n",
              "      <td>116.029999</td>\n",
              "    </tr>\n",
              "    <tr>\n",
              "      <th>3</th>\n",
              "      <td>116.589996</td>\n",
              "    </tr>\n",
              "    <tr>\n",
              "      <th>4</th>\n",
              "      <td>119.050003</td>\n",
              "    </tr>\n",
              "  </tbody>\n",
              "</table>\n",
              "</div>"
            ],
            "text/plain": [
              "        Close\n",
              "0  113.849998\n",
              "1  115.169998\n",
              "2  116.029999\n",
              "3  116.589996\n",
              "4  119.050003"
            ]
          },
          "execution_count": 36,
          "metadata": {},
          "output_type": "execute_result"
        }
      ],
      "source": [
        "final_df.head()"
      ]
    },
    {
      "cell_type": "code",
      "execution_count": 37,
      "metadata": {
        "colab": {
          "base_uri": "https://localhost:8080/"
        },
        "id": "iQOfDW8ADTOE",
        "outputId": "c2719fe6-3a73-4592-90dc-dffad908d074"
      },
      "outputs": [
        {
          "data": {
            "text/plain": [
              "array([[0.        ],\n",
              "       [0.01566579],\n",
              "       [0.0258723 ],\n",
              "       [0.03251837],\n",
              "       [0.0617138 ],\n",
              "       [0.10526943],\n",
              "       [0.10954193],\n",
              "       [0.10788041],\n",
              "       [0.09969145],\n",
              "       [0.11749349],\n",
              "       [0.12497031],\n",
              "       [0.09411346],\n",
              "       [0.11144077],\n",
              "       [0.10159037],\n",
              "       [0.09411346],\n",
              "       [0.16650841],\n",
              "       [0.16567765],\n",
              "       [0.17624019],\n",
              "       [0.15202949],\n",
              "       [0.1706622 ],\n",
              "       [0.21398061],\n",
              "       [0.20306204],\n",
              "       [0.21504869],\n",
              "       [0.27106579],\n",
              "       [0.24946589],\n",
              "       [0.23581773],\n",
              "       [0.22359368],\n",
              "       [0.18466657],\n",
              "       [0.2036553 ],\n",
              "       [0.15131735],\n",
              "       [0.20258722],\n",
              "       [0.21599815],\n",
              "       [0.17956322],\n",
              "       [0.17742706],\n",
              "       [0.20223119],\n",
              "       [0.17873255],\n",
              "       [0.15772609],\n",
              "       [0.16591506],\n",
              "       [0.21576074],\n",
              "       [0.27320195],\n",
              "       [0.29931175],\n",
              "       [0.34500355],\n",
              "       [0.34785194],\n",
              "       [0.33479704],\n",
              "       [0.27581293],\n",
              "       [0.21493007],\n",
              "       [0.24080228],\n",
              "       [0.25089018],\n",
              "       [0.23842871],\n",
              "       [0.27937337],\n",
              "       [0.27189646],\n",
              "       [0.27367677],\n",
              "       [0.26299544],\n",
              "       [0.25563732],\n",
              "       [0.2525517 ],\n",
              "       [0.25539991],\n",
              "       [0.22952769],\n",
              "       [0.20163776],\n",
              "       [0.18822701],\n",
              "       [0.19012576],\n",
              "       [0.14419655],\n",
              "       [0.14253503],\n",
              "       [0.13648231],\n",
              "       [0.08473771],\n",
              "       [0.08794213],\n",
              "       [0.16544033],\n",
              "       [0.13375272],\n",
              "       [0.09743649],\n",
              "       [0.0745312 ],\n",
              "       [0.08984096],\n",
              "       [0.02978877],\n",
              "       [0.08592449],\n",
              "       [0.07275106],\n",
              "       [0.09624971],\n",
              "       [0.08521244],\n",
              "       [0.12034179],\n",
              "       [0.13909329],\n",
              "       [0.12948022],\n",
              "       [0.07927843],\n",
              "       [0.07286968],\n",
              "       [0.11322099],\n",
              "       [0.10313319],\n",
              "       [0.07405646],\n",
              "       [0.07999048],\n",
              "       [0.08734869],\n",
              "       [0.08948494],\n",
              "       [0.0718016 ],\n",
              "       [0.09850466],\n",
              "       [0.10859247],\n",
              "       [0.14300976],\n",
              "       [0.14668882],\n",
              "       [0.16674582],\n",
              "       [0.19594115],\n",
              "       [0.22727274],\n",
              "       [0.20638508],\n",
              "       [0.24424393],\n",
              "       [0.21576074],\n",
              "       [0.24507478],\n",
              "       [0.24103969],\n",
              "       [0.24910987],\n",
              "       [0.22857823],\n",
              "       [0.23320675],\n",
              "       [0.21469266],\n",
              "       [0.24293862],\n",
              "       [0.24768576],\n",
              "       [0.24376929],\n",
              "       [0.23415622],\n",
              "       [0.23296934],\n",
              "       [0.20899606],\n",
              "       [0.22181337],\n",
              "       [0.16615238],\n",
              "       [0.16911948],\n",
              "       [0.18858304],\n",
              "       [0.19416102],\n",
              "       [0.15428435],\n",
              "       [0.14312847],\n",
              "       [0.10586278],\n",
              "       [0.1319725 ],\n",
              "       [0.16140515],\n",
              "       [0.14740088],\n",
              "       [0.1305483 ],\n",
              "       [0.12864946],\n",
              "       [0.15974364],\n",
              "       [0.13743178],\n",
              "       [0.15725136],\n",
              "       [0.15487779],\n",
              "       [0.15428435],\n",
              "       [0.13565155],\n",
              "       [0.1277    ],\n",
              "       [0.12378353],\n",
              "       [0.13304057],\n",
              "       [0.11500121],\n",
              "       [0.14289106],\n",
              "       [0.14300976],\n",
              "       [0.15297886],\n",
              "       [0.15760739],\n",
              "       [0.14550204],\n",
              "       [0.16021837],\n",
              "       [0.19736526],\n",
              "       [0.18739616],\n",
              "       [0.19344879],\n",
              "       [0.21291235],\n",
              "       [0.19712803],\n",
              "       [0.21896516],\n",
              "       [0.23890336],\n",
              "       [0.23558032],\n",
              "       [0.23213867],\n",
              "       [0.22857823],\n",
              "       [0.24839781],\n",
              "       [0.26679329],\n",
              "       [0.27427021],\n",
              "       [0.27794927],\n",
              "       [0.30987429],\n",
              "       [0.3343224 ],\n",
              "       [0.3645859 ],\n",
              "       [0.3488014 ],\n",
              "       [0.37099456],\n",
              "       [0.36375505],\n",
              "       [0.3772846 ],\n",
              "       [0.41894131],\n",
              "       [0.41098975],\n",
              "       [0.38618562],\n",
              "       [0.33942556],\n",
              "       [0.38333723],\n",
              "       [0.3744362 ],\n",
              "       [0.39105155],\n",
              "       [0.41193921],\n",
              "       [0.41704256],\n",
              "       [0.39069553],\n",
              "       [0.36945166],\n",
              "       [0.3772846 ],\n",
              "       [0.37989558],\n",
              "       [0.37586049],\n",
              "       [0.39769762],\n",
              "       [0.39283168],\n",
              "       [0.39413717],\n",
              "       [0.38321861],\n",
              "       [0.38262517],\n",
              "       [0.37680996],\n",
              "       [0.37989558],\n",
              "       [0.41585569],\n",
              "       [0.41834805],\n",
              "       [0.44232134],\n",
              "       [0.43128416],\n",
              "       [0.38582959],\n",
              "       [0.38986468],\n",
              "       [0.4075481 ],\n",
              "       [0.42558755],\n",
              "       [0.42451929],\n",
              "       [0.40956565],\n",
              "       [0.39983378],\n",
              "       [0.41241404],\n",
              "       [0.46605739],\n",
              "       [0.45074771],\n",
              "       [0.45881789],\n",
              "       [0.47234743],\n",
              "       [0.48006176],\n",
              "       [0.50842633],\n",
              "       [0.48967483],\n",
              "       [0.47733216],\n",
              "       [0.41680515],\n",
              "       [0.42368863],\n",
              "       [0.40671725],\n",
              "       [0.4175172 ],\n",
              "       [0.41466881],\n",
              "       [0.38226915],\n",
              "       [0.34524096],\n",
              "       [0.35105618],\n",
              "       [0.37977696],\n",
              "       [0.39140758],\n",
              "       [0.39247566],\n",
              "       [0.37408018],\n",
              "       [0.33301691],\n",
              "       [0.34393547],\n",
              "       [0.32815097],\n",
              "       [0.34179913],\n",
              "       [0.30014242],\n",
              "       [0.32352245],\n",
              "       [0.33408498],\n",
              "       [0.34939466],\n",
              "       [0.34476614],\n",
              "       [0.34369806],\n",
              "       [0.32826959],\n",
              "       [0.32114888],\n",
              "       [0.35497265],\n",
              "       [0.36779014],\n",
              "       [0.38808454],\n",
              "       [0.41431278],\n",
              "       [0.4202468 ],\n",
              "       [0.42285778],\n",
              "       [0.41348212],\n",
              "       [0.41288868],\n",
              "       [0.42095903],\n",
              "       [0.41538104],\n",
              "       [0.45953012],\n",
              "       [0.42665563],\n",
              "       [0.41668653],\n",
              "       [0.42926661],\n",
              "       [0.44671263],\n",
              "       [0.44042259],\n",
              "       [0.44422026],\n",
              "       [0.43425116],\n",
              "       [0.43864228],\n",
              "       [0.40434368],\n",
              "       [0.40375025],\n",
              "       [0.42891059],\n",
              "       [0.4290292 ],\n",
              "       [0.44089723],\n",
              "       [0.47044868],\n",
              "       [0.52243052],\n",
              "       [0.55423693],\n",
              "       [0.55981491],\n",
              "       [0.56444344],\n",
              "       [0.57073348],\n",
              "       [0.50985044],\n",
              "       [0.55055787],\n",
              "       [0.61061006],\n",
              "       [0.60432002],\n",
              "       [0.59233319],\n",
              "       [0.5695466 ],\n",
              "       [0.61084747],\n",
              "       [0.68039393],\n",
              "       [0.72667935],\n",
              "       [0.72050792],\n",
              "       [0.77854257],\n",
              "       [0.73451229],\n",
              "       [0.71777833],\n",
              "       [0.77676244],\n",
              "       [0.69321142],\n",
              "       [0.67991929],\n",
              "       [0.66342274],\n",
              "       [0.70187521],\n",
              "       [0.73332541],\n",
              "       [0.74092094],\n",
              "       [0.78898649],\n",
              "       [0.77664364],\n",
              "       [0.7777119 ],\n",
              "       [0.76370753],\n",
              "       [0.7562308 ],\n",
              "       [0.80892469],\n",
              "       [0.78150958],\n",
              "       [0.72478042],\n",
              "       [0.6901258 ],\n",
              "       [0.69214334],\n",
              "       [0.69238076],\n",
              "       [0.72667935],\n",
              "       [0.73201992],\n",
              "       [0.69238076],\n",
              "       [0.70282468],\n",
              "       [0.66401618],\n",
              "       [0.62164723],\n",
              "       [0.60123421],\n",
              "       [0.57631146],\n",
              "       [0.56693562],\n",
              "       [0.54509849],\n",
              "       [0.54403042],\n",
              "       [0.53845243],\n",
              "       [0.67030622],\n",
              "       [0.7231189 ],\n",
              "       [0.72110136],\n",
              "       [0.73569898],\n",
              "       [0.70080695],\n",
              "       [0.69475433],\n",
              "       [0.68609072],\n",
              "       [0.72371234],\n",
              "       [0.74092094],\n",
              "       [0.69154991],\n",
              "       [0.65024922],\n",
              "       [0.65309761],\n",
              "       [0.69950146],\n",
              "       [0.69665325],\n",
              "       [0.65309761],\n",
              "       [0.63434611],\n",
              "       [0.59897944],\n",
              "       [0.54854032],\n",
              "       [0.58022793],\n",
              "       [0.60526948],\n",
              "       [0.60847372],\n",
              "       [0.58568713],\n",
              "       [0.6255637 ],\n",
              "       [0.62164723],\n",
              "       [0.5853311 ],\n",
              "       [0.53940189],\n",
              "       [0.51732735],\n",
              "       [0.58272012],\n",
              "       [0.53014485],\n",
              "       [0.48516492],\n",
              "       [0.43638732],\n",
              "       [0.48943742],\n",
              "       [0.54284354],\n",
              "       [0.55506759],\n",
              "       [0.59494417],\n",
              "       [0.61155952],\n",
              "       [0.65238556],\n",
              "       [0.66888211],\n",
              "       [0.71469271],\n",
              "       [0.72240685],\n",
              "       [0.73285077],\n",
              "       [0.77272735],\n",
              "       [0.75860437],\n",
              "       [0.72110136],\n",
              "       [0.71754092],\n",
              "       [0.76655593],\n",
              "       [0.72644194],\n",
              "       [0.68810826],\n",
              "       [0.69178732],\n",
              "       [0.66745783],\n",
              "       [0.61595063],\n",
              "       [0.63861861],\n",
              "       [0.67113689],\n",
              "       [0.61049126],\n",
              "       [0.60788046],\n",
              "       [0.6355328 ],\n",
              "       [0.63351526],\n",
              "       [0.62390219],\n",
              "       [0.56895316],\n",
              "       [0.58188945],\n",
              "       [0.50973182],\n",
              "       [0.50700223],\n",
              "       [0.59090909],\n",
              "       [0.51981954],\n",
              "       [0.52349878],\n",
              "       [0.54153805],\n",
              "       [0.61915505],\n",
              "       [0.5093758 ],\n",
              "       [0.51542843],\n",
              "       [0.45347731],\n",
              "       [0.48255394],\n",
              "       [0.38749111],\n",
              "       [0.34073105],\n",
              "       [0.39473061],\n",
              "       [0.37609772],\n",
              "       [0.42000957],\n",
              "       [0.3200808 ],\n",
              "       [0.27889873],\n",
              "       [0.28174694],\n",
              "       [0.3472585 ],\n",
              "       [0.31462143],\n",
              "       [0.31652036],\n",
              "       [0.35521006],\n",
              "       [0.42475671],\n",
              "       [0.41526225],\n",
              "       [0.41371953],\n",
              "       [0.4433896 ],\n",
              "       [0.37419897],\n",
              "       [0.38321861],\n",
              "       [0.41371953],\n",
              "       [0.40481851],\n",
              "       [0.34168051],\n",
              "       [0.27628775],\n",
              "       [0.21398061],\n",
              "       [0.22442435],\n",
              "       [0.25611196],\n",
              "       [0.19238071],\n",
              "       [0.21018275],\n",
              "       [0.26133392],\n",
              "       [0.25516268],\n",
              "       [0.28981729],\n",
              "       [0.3300499 ],\n",
              "       [0.3300499 ],\n",
              "       [0.27996681],\n",
              "       [0.3012105 ],\n",
              "       [0.27142182],\n",
              "       [0.29765005],\n",
              "       [0.32886302],\n",
              "       [0.34500355],\n",
              "       [0.38571098],\n",
              "       [0.39389976],\n",
              "       [0.36814616],\n",
              "       [0.37989558],\n",
              "       [0.37550446],\n",
              "       [0.41087114],\n",
              "       [0.43104675],\n",
              "       [0.39425597],\n",
              "       [0.44089723],\n",
              "       [0.46510793],\n",
              "       [0.49252322],\n",
              "       [0.47756939],\n",
              "       [0.46403985],\n",
              "       [0.44801812],\n",
              "       [0.50961303],\n",
              "       [0.51625928],\n",
              "       [0.57749816],\n",
              "       [0.56563013],\n",
              "       [0.54782809],\n",
              "       [0.62046054],\n",
              "       [0.61666268],\n",
              "       [0.61120349],\n",
              "       [0.60550671],\n",
              "       [0.60610015],\n",
              "       [0.65737011],\n",
              "       [0.64846909],\n",
              "       [0.69131268],\n",
              "       [0.70424878],\n",
              "       [0.70234986],\n",
              "       [0.72038931],\n",
              "       [0.71564199],\n",
              "       [0.6844292 ],\n",
              "       [0.63755053],\n",
              "       [0.63351526],\n",
              "       [0.63707571],\n",
              "       [0.66674577],\n",
              "       [0.59067168],\n",
              "       [0.56408741],\n",
              "       [0.53477337],\n",
              "       [0.51471637],\n",
              "       [0.52349878],\n",
              "       [0.49798241],\n",
              "       [0.48279135],\n",
              "       [0.49976272],\n",
              "       [0.48196068],\n",
              "       [0.51649651],\n",
              "       [0.58841672],\n",
              "       [0.47460238],\n",
              "       [0.4920484 ],\n",
              "       [0.45715637],\n",
              "       [0.43733679],\n",
              "       [0.48219791],\n",
              "       [0.51091852],\n",
              "       [0.47317828],\n",
              "       [0.46154766],\n",
              "       [0.43413237],\n",
              "       [0.43816763],\n",
              "       [0.44991687],\n",
              "       [0.42713027],\n",
              "       [0.33978159],\n",
              "       [0.28898645],\n",
              "       [0.33942556],\n",
              "       [0.38274397],\n",
              "       [0.38630423],\n",
              "       [0.37479223],\n",
              "       [0.31141701],\n",
              "       [0.31533348],\n",
              "       [0.29824349],\n",
              "       [0.29064796],\n",
              "       [0.3458344 ],\n",
              "       [0.29112278],\n",
              "       [0.33895092],\n",
              "       [0.35485403],\n",
              "       [0.35615952],\n",
              "       [0.35058154],\n",
              "       [0.39662954],\n",
              "       [0.42250175],\n",
              "       [0.45680034],\n",
              "       [0.42131506],\n",
              "       [0.3673155 ],\n",
              "       [0.49715174],\n",
              "       [0.46866837],\n",
              "       [0.43674335],\n",
              "       [0.37004509],\n",
              "       [0.2970568 ],\n",
              "       [0.29112278],\n",
              "       [0.29753144],\n",
              "       [0.30441492],\n",
              "       [0.24946589],\n",
              "       [0.39188222],\n",
              "       [0.42546876],\n",
              "       [0.40861618],\n",
              "       [0.42950384],\n",
              "       [0.41466881],\n",
              "       [0.4375742 ],\n",
              "       [0.44433888],\n",
              "       [0.40541176],\n",
              "       [0.43116536],\n",
              "       [0.44172808],\n",
              "       [0.40659864],\n",
              "       [0.36043202],\n",
              "       [0.3242345 ],\n",
              "       [0.40564917],\n",
              "       [0.40897221],\n",
              "       [0.40303819],\n",
              "       [0.38903401],\n",
              "       [0.34488493],\n",
              "       [0.3215049 ],\n",
              "       [0.34179913],\n",
              "       [0.33598391],\n",
              "       [0.36363644],\n",
              "       [0.37526705],\n",
              "       [0.34844538],\n",
              "       [0.26881083],\n",
              "       [0.2451934 ],\n",
              "       [0.21979582],\n",
              "       [0.21896516],\n",
              "       [0.25634937],\n",
              "       [0.21813431],\n",
              "       [0.2137432 ],\n",
              "       [0.19202468],\n",
              "       [0.14467128],\n",
              "       [0.18704013],\n",
              "       [0.19083781],\n",
              "       [0.13315928],\n",
              "       [0.14846905],\n",
              "       [0.13256584],\n",
              "       [0.18715875],\n",
              "       [0.19344879],\n",
              "       [0.20033227],\n",
              "       [0.23308814],\n",
              "       [0.23213867],\n",
              "       [0.2481604 ],\n",
              "       [0.26216477],\n",
              "       [0.25350116],\n",
              "       [0.25421321],\n",
              "       [0.28506997],\n",
              "       [0.32352245],\n",
              "       [0.34037502],\n",
              "       [0.33242347],\n",
              "       [0.3573464 ],\n",
              "       [0.38072624],\n",
              "       [0.34595301],\n",
              "       [0.36126269],\n",
              "       [0.37479223],\n",
              "       [0.43876107],\n",
              "       [0.48243533],\n",
              "       [0.44956084],\n",
              "       [0.48421546],\n",
              "       [0.45181579],\n",
              "       [0.43935433],\n",
              "       [0.44101584],\n",
              "       [0.47472118],\n",
              "       [0.46700685],\n",
              "       [0.49228581],\n",
              "       [0.47305966],\n",
              "       [0.45929271],\n",
              "       [0.41098975],\n",
              "       [0.4160931 ],\n",
              "       [0.42190831],\n",
              "       [0.38998347],\n",
              "       [0.40434368],\n",
              "       [0.39829106],\n",
              "       [0.37336813],\n",
              "       [0.38048901],\n",
              "       [0.44125326],\n",
              "       [0.47448377],\n",
              "       [0.44801812],\n",
              "       [0.46309038],\n",
              "       [0.4360313 ],\n",
              "       [0.41122716],\n",
              "       [0.43460719],\n",
              "       [0.45976735],\n",
              "       [0.46451467],\n",
              "       [0.49845723],\n",
              "       [0.48836934],\n",
              "       [0.51685253],\n",
              "       [0.53916448],\n",
              "       [0.52195588],\n",
              "       [0.5350106 ],\n",
              "       [0.55067648],\n",
              "       [0.52729645],\n",
              "       [0.51981954],\n",
              "       [0.55684791],\n",
              "       [0.57571803],\n",
              "       [0.60586274],\n",
              "       [0.62093518],\n",
              "       [0.61452653],\n",
              "       [0.59233319],\n",
              "       [0.60301453],\n",
              "       [0.57180156],\n",
              "       [0.55720393],\n",
              "       [0.54889635],\n",
              "       [0.61369568],\n",
              "       [0.60954198],\n",
              "       [0.60977921],\n",
              "       [0.62449563],\n",
              "       [0.63826258],\n",
              "       [0.62663178],\n",
              "       [0.60728702],\n",
              "       [0.61096608],\n",
              "       [0.59245199],\n",
              "       [0.59233319],\n",
              "       [0.64751963],\n",
              "       [0.66259189],\n",
              "       [0.66152381],\n",
              "       [0.64906235],\n",
              "       [0.63612624],\n",
              "       [0.61642527],\n",
              "       [0.70875869],\n",
              "       [0.70792784],\n",
              "       [0.68739621],\n",
              "       [0.7086399 ],\n",
              "       [0.71089485],\n",
              "       [0.69689066],\n",
              "       [0.69095665],\n",
              "       [0.69095665],\n",
              "       [0.69831477],\n",
              "       [0.72632332],\n",
              "       [0.72762881],\n",
              "       [0.71623543],\n",
              "       [0.68490384],\n",
              "       [0.68822687],\n",
              "       [0.70187521],\n",
              "       [0.73083305],\n",
              "       [0.75302638],\n",
              "       [0.75243294],\n",
              "       [0.7861381 ],\n",
              "       [0.79634461],\n",
              "       [0.78008547],\n",
              "       [0.77569436],\n",
              "       [0.75919781],\n",
              "       [0.79183488],\n",
              "       [0.79646341],\n",
              "       [0.83004976],\n",
              "       [0.82435316],\n",
              "       [0.83194869],\n",
              "       [0.8563968 ],\n",
              "       [0.84346069],\n",
              "       [0.84452877],\n",
              "       [0.83206749],\n",
              "       [0.86814621],\n",
              "       [0.86434835],\n",
              "       [0.84761457],\n",
              "       [0.88072629],\n",
              "       [0.89484927],\n",
              "       [0.89888436],\n",
              "       [0.95086637],\n",
              "       [0.93294572],\n",
              "       [0.91953479],\n",
              "       [0.92523139],\n",
              "       [0.91182046],\n",
              "       [0.88725374],\n",
              "       [0.8809637 ],\n",
              "       [0.9010207 ],\n",
              "       [0.91015895],\n",
              "       [0.91193926],\n",
              "       [0.95110379],\n",
              "       [0.94801798],\n",
              "       [0.9642773 ],\n",
              "       [0.94089728],\n",
              "       [0.92677429],\n",
              "       [0.93638737],\n",
              "       [0.94671249],\n",
              "       [0.95715641],\n",
              "       [0.94196535],\n",
              "       [0.97294091],\n",
              "       [0.98029903],\n",
              "       [0.97032993],\n",
              "       [0.93436982],\n",
              "       [0.91763586],\n",
              "       [0.80868746],\n",
              "       [0.77142186],\n",
              "       [0.78269645],\n",
              "       [0.76358892],\n",
              "       [0.76097794],\n",
              "       [0.7588416 ],\n",
              "       [0.77866136],\n",
              "       [0.75480651],\n",
              "       [0.74436277],\n",
              "       [0.71386186],\n",
              "       [0.71967725],\n",
              "       [0.73569898],\n",
              "       [0.75219553],\n",
              "       [0.79836215],\n",
              "       [0.74210782],\n",
              "       [0.76857347],\n",
              "       [0.78732497],\n",
              "       [0.83396623],\n",
              "       [0.87586036],\n",
              "       [0.87847134],\n",
              "       [0.89734164],\n",
              "       [0.90018985],\n",
              "       [0.81960602],\n",
              "       [0.756112  ],\n",
              "       [0.76347012],\n",
              "       [0.77747449],\n",
              "       [0.74115836],\n",
              "       [0.71635422],\n",
              "       [0.73451229],\n",
              "       [0.7258485 ],\n",
              "       [0.76097794],\n",
              "       [0.77403284],\n",
              "       [0.73154528],\n",
              "       [0.71303101],\n",
              "       [0.72323752],\n",
              "       [0.73854737],\n",
              "       [0.68965116],\n",
              "       [0.67149291],\n",
              "       [0.67457872],\n",
              "       [0.68075014],\n",
              "       [0.71089485],\n",
              "       [0.69487294],\n",
              "       [0.70982677],\n",
              "       [0.7246618 ],\n",
              "       [0.75528134],\n",
              "       [0.77308338],\n",
              "       [0.76596249],\n",
              "       [0.78269645],\n",
              "       [0.7934964 ],\n",
              "       [0.77142186],\n",
              "       [0.76987896],\n",
              "       [0.75124607],\n",
              "       [0.73569898],\n",
              "       [0.73118926],\n",
              "       [0.70056972],\n",
              "       [0.70199383],\n",
              "       [0.70721579],\n",
              "       [0.67944465],\n",
              "       [0.62948018],\n",
              "       [0.64526467],\n",
              "       [0.6698314 ],\n",
              "       [0.67552818],\n",
              "       [0.71350583],\n",
              "       [0.7562308 ],\n",
              "       [0.74531206],\n",
              "       [0.77593159],\n",
              "       [0.80666992],\n",
              "       [0.81936861],\n",
              "       [0.81367201],\n",
              "       [0.86102532],\n",
              "       [0.84203659],\n",
              "       [0.87336817],\n",
              "       [0.88013285],\n",
              "       [0.90030864],\n",
              "       [0.90007123],\n",
              "       [0.9209589 ],\n",
              "       [0.91134582],\n",
              "       [0.91929738],\n",
              "       [0.90339427],\n",
              "       [0.90125793],\n",
              "       [0.90849743],\n",
              "       [0.89627338],\n",
              "       [0.90315685],\n",
              "       [0.91846671],\n",
              "       [0.89698543],\n",
              "       [0.94433892],\n",
              "       [0.9312842 ],\n",
              "       [0.95442682],\n",
              "       [0.97151681],\n",
              "       [0.94149053],\n",
              "       [0.95964878],\n",
              "       [0.99821987],\n",
              "       [1.        ],\n",
              "       [0.99359134],\n",
              "       [0.97365297],\n",
              "       [0.98611443],\n",
              "       [0.96107289],\n",
              "       [0.95929257],\n",
              "       [0.94647526],\n",
              "       [0.93994781],\n",
              "       [0.94113451],\n",
              "       [0.94623785],\n",
              "       [0.93377639]])"
            ]
          },
          "execution_count": 37,
          "metadata": {},
          "output_type": "execute_result"
        }
      ],
      "source": [
        "input_data=scaler.fit_transform(final_df)\n",
        "input_data"
      ]
    },
    {
      "cell_type": "code",
      "execution_count": 38,
      "metadata": {
        "colab": {
          "base_uri": "https://localhost:8080/"
        },
        "id": "-OkeDCqTDYQM",
        "outputId": "61a786c0-abad-462e-9ffe-850a39049f9d"
      },
      "outputs": [
        {
          "data": {
            "text/plain": [
              "(780, 1)"
            ]
          },
          "execution_count": 38,
          "metadata": {},
          "output_type": "execute_result"
        }
      ],
      "source": [
        "input_data.shape"
      ]
    },
    {
      "cell_type": "code",
      "execution_count": 41,
      "metadata": {
        "id": "wlMInh0mDaiS"
      },
      "outputs": [],
      "source": [
        "x_test=[]\n",
        "y_test=[]\n",
        "\n",
        "for i in range(100,input_data.shape[0]):\n",
        "  x_test.append(input_data[i-100:i])\n",
        "  y_test.append(input_data[i,0])"
      ]
    },
    {
      "cell_type": "code",
      "execution_count": 42,
      "metadata": {
        "colab": {
          "base_uri": "https://localhost:8080/"
        },
        "id": "Jn74fv-lDaex",
        "outputId": "21a7e7ab-418e-4326-8b03-69507a99d59a"
      },
      "outputs": [
        {
          "name": "stdout",
          "output_type": "stream",
          "text": [
            "(680, 100, 1)\n",
            "(680,)\n"
          ]
        }
      ],
      "source": [
        "x_test,y_test=np.array(x_test),np.array(y_test)\n",
        "print(x_test.shape)\n",
        "print(y_test.shape)"
      ]
    },
    {
      "cell_type": "code",
      "execution_count": 43,
      "metadata": {
        "colab": {
          "base_uri": "https://localhost:8080/"
        },
        "id": "0T_JObH8Dab7",
        "outputId": "83e3962d-8a81-4486-91b7-c69d7f516500"
      },
      "outputs": [
        {
          "name": "stdout",
          "output_type": "stream",
          "text": [
            "\u001b[1m22/22\u001b[0m \u001b[32m━━━━━━━━━━━━━━━━━━━━\u001b[0m\u001b[37m\u001b[0m \u001b[1m1s\u001b[0m 23ms/step\n"
          ]
        }
      ],
      "source": [
        "y_pred=model.predict(x_test)"
      ]
    },
    {
      "cell_type": "code",
      "execution_count": 44,
      "metadata": {
        "colab": {
          "base_uri": "https://localhost:8080/"
        },
        "id": "SGZvouA2DaZA",
        "outputId": "264f6014-c09a-475d-83cd-2896d7c2fffa"
      },
      "outputs": [
        {
          "data": {
            "text/plain": [
              "(680, 1)"
            ]
          },
          "execution_count": 44,
          "metadata": {},
          "output_type": "execute_result"
        }
      ],
      "source": [
        "y_pred.shape"
      ]
    },
    {
      "cell_type": "code",
      "execution_count": 45,
      "metadata": {
        "colab": {
          "base_uri": "https://localhost:8080/"
        },
        "id": "5ftyJGGuEjPp",
        "outputId": "35a60a80-9201-4f4a-e0b3-b10a2a8144af"
      },
      "outputs": [
        {
          "data": {
            "text/plain": [
              "array([0.22857823, 0.23320675, 0.21469266, 0.24293862, 0.24768576,\n",
              "       0.24376929, 0.23415622, 0.23296934, 0.20899606, 0.22181337,\n",
              "       0.16615238, 0.16911948, 0.18858304, 0.19416102, 0.15428435,\n",
              "       0.14312847, 0.10586278, 0.1319725 , 0.16140515, 0.14740088,\n",
              "       0.1305483 , 0.12864946, 0.15974364, 0.13743178, 0.15725136,\n",
              "       0.15487779, 0.15428435, 0.13565155, 0.1277    , 0.12378353,\n",
              "       0.13304057, 0.11500121, 0.14289106, 0.14300976, 0.15297886,\n",
              "       0.15760739, 0.14550204, 0.16021837, 0.19736526, 0.18739616,\n",
              "       0.19344879, 0.21291235, 0.19712803, 0.21896516, 0.23890336,\n",
              "       0.23558032, 0.23213867, 0.22857823, 0.24839781, 0.26679329,\n",
              "       0.27427021, 0.27794927, 0.30987429, 0.3343224 , 0.3645859 ,\n",
              "       0.3488014 , 0.37099456, 0.36375505, 0.3772846 , 0.41894131,\n",
              "       0.41098975, 0.38618562, 0.33942556, 0.38333723, 0.3744362 ,\n",
              "       0.39105155, 0.41193921, 0.41704256, 0.39069553, 0.36945166,\n",
              "       0.3772846 , 0.37989558, 0.37586049, 0.39769762, 0.39283168,\n",
              "       0.39413717, 0.38321861, 0.38262517, 0.37680996, 0.37989558,\n",
              "       0.41585569, 0.41834805, 0.44232134, 0.43128416, 0.38582959,\n",
              "       0.38986468, 0.4075481 , 0.42558755, 0.42451929, 0.40956565,\n",
              "       0.39983378, 0.41241404, 0.46605739, 0.45074771, 0.45881789,\n",
              "       0.47234743, 0.48006176, 0.50842633, 0.48967483, 0.47733216,\n",
              "       0.41680515, 0.42368863, 0.40671725, 0.4175172 , 0.41466881,\n",
              "       0.38226915, 0.34524096, 0.35105618, 0.37977696, 0.39140758,\n",
              "       0.39247566, 0.37408018, 0.33301691, 0.34393547, 0.32815097,\n",
              "       0.34179913, 0.30014242, 0.32352245, 0.33408498, 0.34939466,\n",
              "       0.34476614, 0.34369806, 0.32826959, 0.32114888, 0.35497265,\n",
              "       0.36779014, 0.38808454, 0.41431278, 0.4202468 , 0.42285778,\n",
              "       0.41348212, 0.41288868, 0.42095903, 0.41538104, 0.45953012,\n",
              "       0.42665563, 0.41668653, 0.42926661, 0.44671263, 0.44042259,\n",
              "       0.44422026, 0.43425116, 0.43864228, 0.40434368, 0.40375025,\n",
              "       0.42891059, 0.4290292 , 0.44089723, 0.47044868, 0.52243052,\n",
              "       0.55423693, 0.55981491, 0.56444344, 0.57073348, 0.50985044,\n",
              "       0.55055787, 0.61061006, 0.60432002, 0.59233319, 0.5695466 ,\n",
              "       0.61084747, 0.68039393, 0.72667935, 0.72050792, 0.77854257,\n",
              "       0.73451229, 0.71777833, 0.77676244, 0.69321142, 0.67991929,\n",
              "       0.66342274, 0.70187521, 0.73332541, 0.74092094, 0.78898649,\n",
              "       0.77664364, 0.7777119 , 0.76370753, 0.7562308 , 0.80892469,\n",
              "       0.78150958, 0.72478042, 0.6901258 , 0.69214334, 0.69238076,\n",
              "       0.72667935, 0.73201992, 0.69238076, 0.70282468, 0.66401618,\n",
              "       0.62164723, 0.60123421, 0.57631146, 0.56693562, 0.54509849,\n",
              "       0.54403042, 0.53845243, 0.67030622, 0.7231189 , 0.72110136,\n",
              "       0.73569898, 0.70080695, 0.69475433, 0.68609072, 0.72371234,\n",
              "       0.74092094, 0.69154991, 0.65024922, 0.65309761, 0.69950146,\n",
              "       0.69665325, 0.65309761, 0.63434611, 0.59897944, 0.54854032,\n",
              "       0.58022793, 0.60526948, 0.60847372, 0.58568713, 0.6255637 ,\n",
              "       0.62164723, 0.5853311 , 0.53940189, 0.51732735, 0.58272012,\n",
              "       0.53014485, 0.48516492, 0.43638732, 0.48943742, 0.54284354,\n",
              "       0.55506759, 0.59494417, 0.61155952, 0.65238556, 0.66888211,\n",
              "       0.71469271, 0.72240685, 0.73285077, 0.77272735, 0.75860437,\n",
              "       0.72110136, 0.71754092, 0.76655593, 0.72644194, 0.68810826,\n",
              "       0.69178732, 0.66745783, 0.61595063, 0.63861861, 0.67113689,\n",
              "       0.61049126, 0.60788046, 0.6355328 , 0.63351526, 0.62390219,\n",
              "       0.56895316, 0.58188945, 0.50973182, 0.50700223, 0.59090909,\n",
              "       0.51981954, 0.52349878, 0.54153805, 0.61915505, 0.5093758 ,\n",
              "       0.51542843, 0.45347731, 0.48255394, 0.38749111, 0.34073105,\n",
              "       0.39473061, 0.37609772, 0.42000957, 0.3200808 , 0.27889873,\n",
              "       0.28174694, 0.3472585 , 0.31462143, 0.31652036, 0.35521006,\n",
              "       0.42475671, 0.41526225, 0.41371953, 0.4433896 , 0.37419897,\n",
              "       0.38321861, 0.41371953, 0.40481851, 0.34168051, 0.27628775,\n",
              "       0.21398061, 0.22442435, 0.25611196, 0.19238071, 0.21018275,\n",
              "       0.26133392, 0.25516268, 0.28981729, 0.3300499 , 0.3300499 ,\n",
              "       0.27996681, 0.3012105 , 0.27142182, 0.29765005, 0.32886302,\n",
              "       0.34500355, 0.38571098, 0.39389976, 0.36814616, 0.37989558,\n",
              "       0.37550446, 0.41087114, 0.43104675, 0.39425597, 0.44089723,\n",
              "       0.46510793, 0.49252322, 0.47756939, 0.46403985, 0.44801812,\n",
              "       0.50961303, 0.51625928, 0.57749816, 0.56563013, 0.54782809,\n",
              "       0.62046054, 0.61666268, 0.61120349, 0.60550671, 0.60610015,\n",
              "       0.65737011, 0.64846909, 0.69131268, 0.70424878, 0.70234986,\n",
              "       0.72038931, 0.71564199, 0.6844292 , 0.63755053, 0.63351526,\n",
              "       0.63707571, 0.66674577, 0.59067168, 0.56408741, 0.53477337,\n",
              "       0.51471637, 0.52349878, 0.49798241, 0.48279135, 0.49976272,\n",
              "       0.48196068, 0.51649651, 0.58841672, 0.47460238, 0.4920484 ,\n",
              "       0.45715637, 0.43733679, 0.48219791, 0.51091852, 0.47317828,\n",
              "       0.46154766, 0.43413237, 0.43816763, 0.44991687, 0.42713027,\n",
              "       0.33978159, 0.28898645, 0.33942556, 0.38274397, 0.38630423,\n",
              "       0.37479223, 0.31141701, 0.31533348, 0.29824349, 0.29064796,\n",
              "       0.3458344 , 0.29112278, 0.33895092, 0.35485403, 0.35615952,\n",
              "       0.35058154, 0.39662954, 0.42250175, 0.45680034, 0.42131506,\n",
              "       0.3673155 , 0.49715174, 0.46866837, 0.43674335, 0.37004509,\n",
              "       0.2970568 , 0.29112278, 0.29753144, 0.30441492, 0.24946589,\n",
              "       0.39188222, 0.42546876, 0.40861618, 0.42950384, 0.41466881,\n",
              "       0.4375742 , 0.44433888, 0.40541176, 0.43116536, 0.44172808,\n",
              "       0.40659864, 0.36043202, 0.3242345 , 0.40564917, 0.40897221,\n",
              "       0.40303819, 0.38903401, 0.34488493, 0.3215049 , 0.34179913,\n",
              "       0.33598391, 0.36363644, 0.37526705, 0.34844538, 0.26881083,\n",
              "       0.2451934 , 0.21979582, 0.21896516, 0.25634937, 0.21813431,\n",
              "       0.2137432 , 0.19202468, 0.14467128, 0.18704013, 0.19083781,\n",
              "       0.13315928, 0.14846905, 0.13256584, 0.18715875, 0.19344879,\n",
              "       0.20033227, 0.23308814, 0.23213867, 0.2481604 , 0.26216477,\n",
              "       0.25350116, 0.25421321, 0.28506997, 0.32352245, 0.34037502,\n",
              "       0.33242347, 0.3573464 , 0.38072624, 0.34595301, 0.36126269,\n",
              "       0.37479223, 0.43876107, 0.48243533, 0.44956084, 0.48421546,\n",
              "       0.45181579, 0.43935433, 0.44101584, 0.47472118, 0.46700685,\n",
              "       0.49228581, 0.47305966, 0.45929271, 0.41098975, 0.4160931 ,\n",
              "       0.42190831, 0.38998347, 0.40434368, 0.39829106, 0.37336813,\n",
              "       0.38048901, 0.44125326, 0.47448377, 0.44801812, 0.46309038,\n",
              "       0.4360313 , 0.41122716, 0.43460719, 0.45976735, 0.46451467,\n",
              "       0.49845723, 0.48836934, 0.51685253, 0.53916448, 0.52195588,\n",
              "       0.5350106 , 0.55067648, 0.52729645, 0.51981954, 0.55684791,\n",
              "       0.57571803, 0.60586274, 0.62093518, 0.61452653, 0.59233319,\n",
              "       0.60301453, 0.57180156, 0.55720393, 0.54889635, 0.61369568,\n",
              "       0.60954198, 0.60977921, 0.62449563, 0.63826258, 0.62663178,\n",
              "       0.60728702, 0.61096608, 0.59245199, 0.59233319, 0.64751963,\n",
              "       0.66259189, 0.66152381, 0.64906235, 0.63612624, 0.61642527,\n",
              "       0.70875869, 0.70792784, 0.68739621, 0.7086399 , 0.71089485,\n",
              "       0.69689066, 0.69095665, 0.69095665, 0.69831477, 0.72632332,\n",
              "       0.72762881, 0.71623543, 0.68490384, 0.68822687, 0.70187521,\n",
              "       0.73083305, 0.75302638, 0.75243294, 0.7861381 , 0.79634461,\n",
              "       0.78008547, 0.77569436, 0.75919781, 0.79183488, 0.79646341,\n",
              "       0.83004976, 0.82435316, 0.83194869, 0.8563968 , 0.84346069,\n",
              "       0.84452877, 0.83206749, 0.86814621, 0.86434835, 0.84761457,\n",
              "       0.88072629, 0.89484927, 0.89888436, 0.95086637, 0.93294572,\n",
              "       0.91953479, 0.92523139, 0.91182046, 0.88725374, 0.8809637 ,\n",
              "       0.9010207 , 0.91015895, 0.91193926, 0.95110379, 0.94801798,\n",
              "       0.9642773 , 0.94089728, 0.92677429, 0.93638737, 0.94671249,\n",
              "       0.95715641, 0.94196535, 0.97294091, 0.98029903, 0.97032993,\n",
              "       0.93436982, 0.91763586, 0.80868746, 0.77142186, 0.78269645,\n",
              "       0.76358892, 0.76097794, 0.7588416 , 0.77866136, 0.75480651,\n",
              "       0.74436277, 0.71386186, 0.71967725, 0.73569898, 0.75219553,\n",
              "       0.79836215, 0.74210782, 0.76857347, 0.78732497, 0.83396623,\n",
              "       0.87586036, 0.87847134, 0.89734164, 0.90018985, 0.81960602,\n",
              "       0.756112  , 0.76347012, 0.77747449, 0.74115836, 0.71635422,\n",
              "       0.73451229, 0.7258485 , 0.76097794, 0.77403284, 0.73154528,\n",
              "       0.71303101, 0.72323752, 0.73854737, 0.68965116, 0.67149291,\n",
              "       0.67457872, 0.68075014, 0.71089485, 0.69487294, 0.70982677,\n",
              "       0.7246618 , 0.75528134, 0.77308338, 0.76596249, 0.78269645,\n",
              "       0.7934964 , 0.77142186, 0.76987896, 0.75124607, 0.73569898,\n",
              "       0.73118926, 0.70056972, 0.70199383, 0.70721579, 0.67944465,\n",
              "       0.62948018, 0.64526467, 0.6698314 , 0.67552818, 0.71350583,\n",
              "       0.7562308 , 0.74531206, 0.77593159, 0.80666992, 0.81936861,\n",
              "       0.81367201, 0.86102532, 0.84203659, 0.87336817, 0.88013285,\n",
              "       0.90030864, 0.90007123, 0.9209589 , 0.91134582, 0.91929738,\n",
              "       0.90339427, 0.90125793, 0.90849743, 0.89627338, 0.90315685,\n",
              "       0.91846671, 0.89698543, 0.94433892, 0.9312842 , 0.95442682,\n",
              "       0.97151681, 0.94149053, 0.95964878, 0.99821987, 1.        ,\n",
              "       0.99359134, 0.97365297, 0.98611443, 0.96107289, 0.95929257,\n",
              "       0.94647526, 0.93994781, 0.94113451, 0.94623785, 0.93377639])"
            ]
          },
          "execution_count": 45,
          "metadata": {},
          "output_type": "execute_result"
        }
      ],
      "source": [
        "y_test"
      ]
    },
    {
      "cell_type": "code",
      "execution_count": 46,
      "metadata": {
        "colab": {
          "base_uri": "https://localhost:8080/"
        },
        "id": "-Y8x0wThE3uc",
        "outputId": "c4e1f6f7-329b-4803-eee5-e03f57e25fe2"
      },
      "outputs": [
        {
          "data": {
            "text/plain": [
              "array([0.01186803])"
            ]
          },
          "execution_count": 46,
          "metadata": {},
          "output_type": "execute_result"
        }
      ],
      "source": [
        "scaler.scale_"
      ]
    },
    {
      "cell_type": "code",
      "execution_count": 47,
      "metadata": {
        "id": "Y1TD25JkFWri"
      },
      "outputs": [],
      "source": [
        "scale_data=1/0.01186803\n",
        "y_pred = y_pred * scale_data\n",
        "y_test = y_test * scale_data"
      ]
    },
    {
      "cell_type": "code",
      "execution_count": 48,
      "metadata": {
        "colab": {
          "base_uri": "https://localhost:8080/",
          "height": 559
        },
        "id": "hgs2XpYIFzif",
        "outputId": "704e3201-82ac-40a6-ad49-cf66927c8089"
      },
      "outputs": [
        {
          "data": {
            "text/plain": [
              "<matplotlib.legend.Legend at 0x16dd3a44260>"
            ]
          },
          "execution_count": 48,
          "metadata": {},
          "output_type": "execute_result"
        },
        {
          "data": {
            "image/png": "[encoded data removed]",
            "text/plain": [
              "<Figure size 1200x600 with 1 Axes>"
            ]
          },
          "metadata": {},
          "output_type": "display_data"
        }
      ],
      "source": [
        "plt.figure(figsize=(12,6))\n",
        "plt.plot(y_test,'b',label='Original Price')\n",
        "plt.plot(y_pred,'r',label='Predicted Price')\n",
        "plt.xlabel('Time')\n",
        "plt.ylabel('Price')\n",
        "plt.legend()"
      ]
    },
    {
      "cell_type": "code",
      "execution_count": null,
      "metadata": {
        "id": "ANT6JnKFGJyM"
      },
      "outputs": [],
      "source": []
    }
  ],
  "metadata": {
    "colab": {
      "provenance": []
    },
    "kernelspec": {
      "display_name": "Python 3",
      "name": "python3"
    },
    "language_info": {
      "codemirror_mode": {
        "name": "ipython",
        "version": 3
      },
      "file_extension": ".py",
      "mimetype": "text/x-python",
      "name": "python",
      "nbconvert_exporter": "python",
      "pygments_lexer": "ipython3",
      "version": "3.12.1"
    }
  },
  "nbformat": 4,
  "nbformat_minor": 0
}
